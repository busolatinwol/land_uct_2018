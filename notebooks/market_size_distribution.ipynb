{
 "cells": [
  {
   "cell_type": "markdown",
   "metadata": {},
   "source": [
    "### UCT 2018: Land Governance course, Week 1\n",
    "\n",
    "DRAFT MATERIAL"
   ]
  },
  {
   "cell_type": "markdown",
   "metadata": {},
   "source": [
    "# A simple competitive model of the Farm Size Distribution"
   ]
  },
  {
   "cell_type": "markdown",
   "metadata": {},
   "source": [
    "## Indeterminacy of size distribution with constant returns to scale technology\n",
    "\n",
    "When a production function $F(T,L)$ is homogenous of degree $k$ if it satisfies:\n",
    "\n",
    "$$F(\\tau T,\\tau L) = \\tau^k F(T,L) $$\n",
    "\n",
    "It's easy to show that the marginal products satisfy:\n",
    "\n",
    "$$F_i(\\tau T,\\tau L) = \\tau^{k-1} F_i(T,L)$$\n",
    "\n",
    "for $i=T,L$"
   ]
  },
  {
   "cell_type": "markdown",
   "metadata": {},
   "source": [
    "WFor a linear homogenous or constant returns to scale production function with $k=$1 and the above expressions become:\n",
    "\n",
    "$$F(\\tau T,\\tau L) = \\tau F(T,L) $$\n",
    "\n",
    "$$F_i(\\tau T,\\tau L) =  F_i(T,L)$$"
   ]
  },
  {
   "cell_type": "markdown",
   "metadata": {},
   "source": [
    "$$P_A F_L(\\tau T,\\tau L) = \\tau^0 P_A F_L(T,L) =w $$"
   ]
  },
  {
   "cell_type": "markdown",
   "metadata": {},
   "source": [
    "Hence any two farms that operate using the same land-labor ratio will have the same marginal value products. This means that the efficient scale of production is indeterminate (cannot be pinned down) and all we can determine is the optimal land-to-labor ratio $\\frac{T}{L}$. The size distribution of farms is indeterminate (but also irrelevant since there is an infinite number of efficient ways to distribute the efficient output among farms that all have access to the same technology -- and every farm makes zero profits). \n",
    "\n",
    "If in a scenario like this we shut down the land market then the size distribution of farms becomes determined simply by however much land each household has in its endowment. Efficiency in production allocation will still be achieved however if there is a competitive labor market as households hire in or hire out labor to bring the land to labor ratio to a level that efficiently equalizes marginal value products across farms.  "
   ]
  },
  {
   "cell_type": "markdown",
   "metadata": {},
   "source": [
    "## Non-traded skills, diseconomies of scale and determinate size distribution"
   ]
  },
  {
   "cell_type": "markdown",
   "metadata": {},
   "source": [
    "Suppose that we instead had a production function $\\hat F(S,T,L)$ which is linear homogenous in its three arguments $S, T$, and $L$ where $S$ is refers to a *non-traded* farming skill or ability, $T$ is tradable land and $L$ is tradable labor.  Consider for example Cobb-Douglas function of the form:\n",
    "\n",
    "$$\\hat F(S,T,L) = S^{1-\\gamma} \\left [ T^\\alpha L^{1-\\alpha}  \\right ]^\\gamma$$"
   ]
  },
  {
   "cell_type": "markdown",
   "metadata": {},
   "source": [
    "where $\\gamma$ and $\\alpha$ are both numbers greater than 0 and less than or equal to 1. This production function is clearly linear homogenous in its three arguments.  Suppose now however that farming skill $S$ is non-traded and each household had an endowmment of exactly $S=1$ units of farming skill.  The conditional production \n",
    "\n",
    "$$F(T,L) =\\hat F(S=1,T,L)$$\n",
    "\n",
    "$$F(T,L) =  \\left [ T^\\alpha L^{1-\\alpha}  \\right ]^\\gamma$$\n",
    "\n",
    "is clearly linear homogenous of degree $\\gamma$ and if $\\gamma$ is strictly less than one then it's a production function subject to diseconomies of scale.  In contrast to a productino function subject to constant returns to scale where the marginal cost and average cost of production to a price taking firm are constant, when production is subject to diseconomies of scale the firm's marginal cost and average cost curves will both be upward sloping: as the firm doubles its inputs output less than doubles so average (and marginal) cost increases with output.  This will then determine an optimal scale to the firm (where marginal cost equals the market price of output)."
   ]
  },
  {
   "cell_type": "markdown",
   "metadata": {},
   "source": [
    "Note also that if there are two firms that are otherwise identical but where one firm has a larger endowment of the non-traded farming skill input, then it will be optimal for this more skilled farmer to operate at a larger scale.  This can be seen very simply by noting that the marginal product of labor and capital are both augmented by farming skill. \n",
    "\n",
    "This then means that if there is some initial distribution of farming skill $S$ across households then the equilibrium size distribution of operational farm sizes will be in some way proportional to that distribution -- farm households with higher farming skills will operate larger farms that use both more land and labor.  Since the production function is homogenous in land and labor it's also homothetic and though different farms will operate at different scale they will still all operate using the same land-labor ratio in an efficient competitive allocation. \n",
    "\n",
    "Lucas (1978) calls a model very similar to this a 'span of control model.  The basic idea is that because farm management/supervision ability cannot be hired on the market due perhaps to moral hazard considerations.  As a farmer attempts to use their fixed farming skill to supervise a larger and larger farm they face diseconomies of scale ($F_{ST} <0$ and $F_{SL} <0$) or rising costs. This will mean that a household that starts with a large endowment of land but only medium farming ability would find it optimal to operate a farm up to a certain scale and then lease out remaining land to the market (because the shadow return to employing land on a yet larger farm would fall below the land rental rate they can get from the market.\n",
    "\n",
    "Lucas' (1978) ,pde; complicates things by assuming that the household has to choose between allocating its time endowment between being a pure farm manager/supervisor or being a laborer. This then leads to a partition of households: those above some threshold level of farming skill become full time farm operators who hire in labor and possibly land all those below this threshold do not operate farms and derive income only from selling labor and possibly land to the market."
   ]
  },
  {
   "cell_type": "markdown",
   "metadata": {},
   "source": [
    "It turns out that simplifying Lucas' model yields a richer model of the farm economy.  In the model that follows every household has an endowment of farming skill, household labor and land, all of which will be supplied inelastically.  Farming skill is independent of labor use, so the household is not forced to choose between farm supervision and work in the labor market, they can do both. "
   ]
  },
  {
   "cell_type": "markdown",
   "metadata": {},
   "source": [
    "### Competitive Factor Markets with no distortions"
   ]
  },
  {
   "cell_type": "markdown",
   "metadata": {},
   "source": [
    "Let's first study the benchmark cases where though there is no market for the non-traded farming skill, the other two factors land and labor can be costlessly hired in or out on competitive markets, resulting in competitive efficient equilibria. "
   ]
  },
  {
   "cell_type": "markdown",
   "metadata": {},
   "source": [
    "#### Equal distribution of farming skill across households"
   ]
  },
  {
   "cell_type": "markdown",
   "metadata": {},
   "source": [
    "Consider the simplest version of the model. Every household has access to the same Cobb Douglas production technology, has $S=1$ units of farming skill and there is some distribution of the total endowment of land $\\bar T$ and labor $\\bar L$ across households. So tradable endowments $(\\bar T_i, \\bar L_i)$ follow some distribution $\\Gamma$.  \n",
    "\n",
    "To fix ideas suppose that there is an integer number of farm households $\\bar L$. Since every farm household has the same technology and farming skill and face the same equilibrium market factor prices $w$ and $v$ they'll choose the same optimal factor demands call them $(T^D(w,r),L^D(w,r))$.  Equilibrium in the factor markets requires:\n",
    "\n",
    "$$\\bar L L^D(w,r) = \\bar L$$\n",
    "\n",
    "$$\\bar L T^D(w,r) = \\bar T$$\n",
    "\n",
    "it follows that the optimal farm size will employ $L^* = 1$ worker, $T^* =\\tau^* = \\frac{\\bar T}{\\bar L}$ units of land and will produce $F \\left ( 1,\\tau^*, 1 \\right)$ units of output.  Equilibrium factor prices are also then simply determined as $w^* = F_L \\left ( 1,\\tau^*, 1 \\right)$ and $r^* = F_T \\left ( 1,\\tau^*, 1 \\right)$. If the household has a land endowment $\\bar T_i$ larger than (less than) this optimal farm scale  $\\tau^*$ the household leases out (leases in) land and likewise any household has a labor endowment $\\bar L_i$ larger than (less than) this optimal farm scale  $L^*$ hires out (hires in) labor."
   ]
  },
  {
   "cell_type": "markdown",
   "metadata": {},
   "source": [
    "#### Unequal distribution of farming skill across households"
   ]
  },
  {
   "cell_type": "markdown",
   "metadata": {},
   "source": [
    "This simple model is easily adapted to the situation where households have access to the same technology but differ in their initial level of farm management/supervision skill. Conceptually farmers with larger non-traded farming skill will operate proportionately larger farms but the land-to-labor ratio is equalized across farms. It's quite easy to demonstrate that if the initial distribution of skills is distributed as a log-normal then so too will the distribution of optimal farm sizes. Once again the farm household will lease out (lease in) land and hire out (hire in) labor depending on whether their initial holding of the traded land endowment exceeds (falls short of) the optimal land size for their farming skill and whether their initial holding of the traded labor endowment exceeds (falls short of) the optimal labor demand for  their farming skill. \n",
    "\n",
    "If we add in a fixed cost to operating a farm then farmers of very low skill will find it unprofitable to operate a farm and will become pure laborers and lease out all land.  \n",
    "\n",
    "Depending on the initial allocation of non-traded skills and tradable inputs households the model delivers an endogenous fourfold classification of the types of engagement in this farm labor economy (the labels I use here are similar to Eswaran and Kotwal's (1986) paper):\n",
    " * **pure laborers:** low skill households do not operate farms. \n",
    " * **laborer-cultivators:** low-medium skill households operate small farms and also seek outside employment\n",
    " * **capitalist:** higher skill households operate larger farms with hired labor.\n",
    "\n",
    "In the economy described thus far, farm household decisions are separable and the initial distribution of *tradable* land and labor does not matter for efficiency in production.  \n",
    "\n",
    "Note that because our production function was linear homogenous in the three inputs we could shut down one of the markets -- the market for farming skill -- and still achieve efficiency in production. \n",
    "\n",
    "We can think of the Eswaran and Kotwal (1986) model in these terms. They describe a model with land, labor and labor supervision.  We've shut down the market for supervisory labor whereas they tell a more complicated story about moral hazard which at the end of the day introduces a similar type of diminishing returns to supervision.  That market imperfection by itself is not enough to matter for efficiency in allocation but they then go ahead and introduce a second distortion: they impose the requirement that farms must pay for their land and labor hiring in advance of the crop but then make a farm household's access to capital proportional to it's initial holding of land (they also impose a fixed cost of operation similar to that described above). \n",
    "\n",
    "The working capital constraint means that some farms will not be able to achieve their optimum scale of operation and the initial distribution of land will now determine both efficiency in allocation and the endogenous agrarian structure: the proportion of different types of farm operators in the economy. \n",
    "\n",
    "Let's see a simple simulation of this model after a brief note on the code we will use to solve for equilibria."
   ]
  },
  {
   "cell_type": "markdown",
   "metadata": {},
   "source": [
    "##### A note on python implementation and object-oriented programming"
   ]
  },
  {
   "cell_type": "markdown",
   "metadata": {},
   "source": [
    "Most of the code to run the model below is contained in a separate module [geqfarm.py](geqfarm.py) outside of this notebook that will be imported as any other library. \n",
    "\n",
    "It's often said that in python 'everything is an object.'  Objects have attributes and methods.  'Attributes' can be thought of as data or variables that describe the object and 'methods' can be thought of as functions that operate on object. \n",
    "\n",
    "Take a very simple example.  When in python you declare a string variable like so:"
   ]
  },
  {
   "cell_type": "code",
   "execution_count": 29,
   "metadata": {
    "collapsed": true
   },
   "outputs": [],
   "source": [
    "mystring = 'economics'"
   ]
  },
  {
   "cell_type": "markdown",
   "metadata": {},
   "source": [
    "python treats ```mystring``` as an instance of a string object.  One then has access to a long list of attributes and methods associated with this object.  In a jupyter notebook if you type the variable name ```mystring``` followed by a period and then hit the tab key you will see a list of available attributes and methods.  Here are a few:"
   ]
  },
  {
   "cell_type": "code",
   "execution_count": 30,
   "metadata": {},
   "outputs": [
    {
     "data": {
      "text/plain": [
       "'ECONOMICS'"
      ]
     },
     "execution_count": 30,
     "metadata": {},
     "output_type": "execute_result"
    }
   ],
   "source": [
    "# return the string capitalized\n",
    "mystring.upper()"
   ]
  },
  {
   "cell_type": "code",
   "execution_count": 31,
   "metadata": {},
   "outputs": [
    {
     "data": {
      "text/plain": [
       "2"
      ]
     },
     "execution_count": 31,
     "metadata": {},
     "output_type": "execute_result"
    }
   ],
   "source": [
    "# count the number of occurunces of the letter 'o'\n",
    "mystring.count('o')"
   ]
  },
  {
   "cell_type": "code",
   "execution_count": 32,
   "metadata": {},
   "outputs": [
    {
     "data": {
      "text/plain": [
       "False"
      ]
     },
     "execution_count": 32,
     "metadata": {},
     "output_type": "execute_result"
    }
   ],
   "source": [
    "# tell me if the string ends with the letter 'M'\n",
    "mystring.endswith('M')"
   ]
  },
  {
   "cell_type": "markdown",
   "metadata": {},
   "source": [
    "**Class statements to create new objects**"
   ]
  },
  {
   "cell_type": "markdown",
   "metadata": {},
   "source": [
    "Let's import the [geqfarm.py](geqfarm.py) libary:"
   ]
  },
  {
   "cell_type": "code",
   "execution_count": 33,
   "metadata": {
    "collapsed": true
   },
   "outputs": [],
   "source": [
    "import numpy as np"
   ]
  },
  {
   "cell_type": "code",
   "execution_count": 34,
   "metadata": {
    "collapsed": true
   },
   "outputs": [],
   "source": [
    "from geqfarm import *"
   ]
  },
  {
   "cell_type": "markdown",
   "metadata": {},
   "source": [
    "If you take a look at the code you will see how I have used class statements to create a new prototype ```Economy`` object.  An object of type Economy has attributes such as the number of households in the economy, parameters of the production function, and arrays that summarize the initial distribution of skill, land and labor across households.  Once this class of object is defined one can make assignments such as the following:"
   ]
  },
  {
   "cell_type": "code",
   "execution_count": 35,
   "metadata": {
    "collapsed": true
   },
   "outputs": [],
   "source": [
    "myeconomy= Economy(20)"
   ]
  },
  {
   "cell_type": "markdown",
   "metadata": {},
   "source": [
    "This creates ```myeconomy``` as an instance of an Economy object.  Several attributes are set to default values.  We can easily find out what these are. For instance this is an economy with a production function with the $\\gamma$ paramter which measures the extent of homogeneity or diseconomies of scale.  To find out what value it's set to we just type:"
   ]
  },
  {
   "cell_type": "code",
   "execution_count": 36,
   "metadata": {},
   "outputs": [
    {
     "data": {
      "text/plain": [
       "0.8"
      ]
     },
     "execution_count": 36,
     "metadata": {},
     "output_type": "execute_result"
    }
   ],
   "source": [
    "myeconomy.GAMMA"
   ]
  },
  {
   "cell_type": "markdown",
   "metadata": {},
   "source": [
    "And we can easily change it to another value:"
   ]
  },
  {
   "cell_type": "code",
   "execution_count": 37,
   "metadata": {
    "collapsed": true
   },
   "outputs": [],
   "source": [
    "myeconomy.GAMMA = 0.9"
   ]
  },
  {
   "cell_type": "markdown",
   "metadata": {},
   "source": [
    "I've written a method to get a convenient summary of all important parameters:"
   ]
  },
  {
   "cell_type": "code",
   "execution_count": 38,
   "metadata": {},
   "outputs": [
    {
     "name": "stdout",
     "output_type": "stream",
     "text": [
      "ALPHA  : 0.5 GAMMA  : 0.9 H      : 0.0 LAMBDA : 0.05\n",
      "LBAR   : 100 N      : 20 TBAR   : 100 s      : [ 1.  1.  1.  1.  1.  1.  1.  1.  1.  1.  1.  1.  1.  1.  1.  1.  1.  1.\n",
      "  1.  1.]\n"
     ]
    }
   ],
   "source": [
    "myeconomy.print_params()"
   ]
  },
  {
   "cell_type": "markdown",
   "metadata": {},
   "source": [
    "For example, the number of households is $N=20$, total land endowment and labor force are both set to 100 and $s$ is an array of skills across each of those 20 households. For the moment every household has the same skill level. "
   ]
  },
  {
   "cell_type": "markdown",
   "metadata": {},
   "source": [
    "Let's work with a different simpler economy of just $N=5$ identical households. We'll call this new economy just ```E```."
   ]
  },
  {
   "cell_type": "code",
   "execution_count": 39,
   "metadata": {
    "collapsed": true
   },
   "outputs": [],
   "source": [
    "N = 5\n",
    "E = Economy(N)    \n",
    "E.ALPHA = 0.5\n",
    "E.GAMMA = 0.90"
   ]
  },
  {
   "cell_type": "markdown",
   "metadata": {},
   "source": [
    "I've written a simple object method which calculates a competitive equilibrium allocation for the economy.  I've set it up to take as required inputs a vector of economywide endownments and an array summarizing the skill distribution.  It returns a 'named-tuple' with the vector of equilibrium factor prices, and the optimal land and labor allocations on each farm."
   ]
  },
  {
   "cell_type": "code",
   "execution_count": 40,
   "metadata": {
    "collapsed": true
   },
   "outputs": [],
   "source": [
    "eqnE = E.smallhold_eq([E.TBAR, E.LBAR], E.s)"
   ]
  },
  {
   "cell_type": "markdown",
   "metadata": {},
   "source": [
    "The competitive equilibrium land rent and labor wage that clears this market are given by:"
   ]
  },
  {
   "cell_type": "code",
   "execution_count": 41,
   "metadata": {},
   "outputs": [
    {
     "data": {
      "text/plain": [
       "array([ 0.3335,  0.3335])"
      ]
     },
     "execution_count": 41,
     "metadata": {},
     "output_type": "execute_result"
    }
   ],
   "source": [
    "eqnE.w"
   ]
  },
  {
   "cell_type": "markdown",
   "metadata": {},
   "source": [
    "The optimal allocation of land and labor to each of the five farm skill groups is given by:"
   ]
  },
  {
   "cell_type": "code",
   "execution_count": 42,
   "metadata": {},
   "outputs": [
    {
     "data": {
      "text/plain": [
       "array([[ 20.,  20.,  20.,  20.,  20.],\n",
       "       [ 20.,  20.,  20.,  20.,  20.]])"
      ]
     },
     "execution_count": 42,
     "metadata": {},
     "output_type": "execute_result"
    }
   ],
   "source": [
    "eqnE.X"
   ]
  },
  {
   "cell_type": "markdown",
   "metadata": {},
   "source": [
    "Since every one of the 5 farm household has the same skill and there are 100 units of land and labor the optimal allocation is for every farm to operate with 20 units of land and 20 units of labor."
   ]
  },
  {
   "cell_type": "markdown",
   "metadata": {},
   "source": [
    "Suppose however we now increase the skill of only the very first household, household zero. "
   ]
  },
  {
   "cell_type": "code",
   "execution_count": 43,
   "metadata": {},
   "outputs": [
    {
     "data": {
      "text/plain": [
       "array([ 1.2,  1. ,  1. ,  1. ,  1. ])"
      ]
     },
     "execution_count": 43,
     "metadata": {},
     "output_type": "execute_result"
    }
   ],
   "source": [
    "E.s[0] = 1.2\n",
    "E.s"
   ]
  },
  {
   "cell_type": "markdown",
   "metadata": {},
   "source": [
    "Let's recalculate the competive equilibrium:"
   ]
  },
  {
   "cell_type": "code",
   "execution_count": 44,
   "metadata": {
    "collapsed": true
   },
   "outputs": [],
   "source": [
    "eqnE = E.smallhold_eq([E.TBAR, E.LBAR], E.s)"
   ]
  },
  {
   "cell_type": "markdown",
   "metadata": {},
   "source": [
    "Since there is more skill in this economy we would expect real wages and rents to rise, as indeed they do:"
   ]
  },
  {
   "cell_type": "code",
   "execution_count": 45,
   "metadata": {},
   "outputs": [
    {
     "data": {
      "text/plain": [
       "array([ 0.3581,  0.3581])"
      ]
     },
     "execution_count": 45,
     "metadata": {},
     "output_type": "execute_result"
    }
   ],
   "source": [
    "eqnE.w"
   ]
  },
  {
   "cell_type": "markdown",
   "metadata": {},
   "source": [
    "Since farm household zero now has a considerably higher level of skill compare to other households it's optimal scale of operations increases and, since it bids on the market for the same factors driving up the costs to other farms, the optimal scal of operations of the other farms shrinks."
   ]
  },
  {
   "cell_type": "code",
   "execution_count": 46,
   "metadata": {},
   "outputs": [
    {
     "data": {
      "text/plain": [
       "array([[ 60.7525,   9.8119,   9.8119,   9.8119,   9.8119],\n",
       "       [ 60.7525,   9.8119,   9.8119,   9.8119,   9.8119]])"
      ]
     },
     "execution_count": 46,
     "metadata": {},
     "output_type": "execute_result"
    }
   ],
   "source": [
    "eqnE.X"
   ]
  },
  {
   "cell_type": "markdown",
   "metadata": {},
   "source": [
    "### Equilibria with credit market distortions"
   ]
  },
  {
   "cell_type": "markdown",
   "metadata": {},
   "source": [
    "We can easily modify to model above to get a simplified version of the model used in Eswaran and Kotwal's 1996 Economic Journal paper \"Access to Capital and Agrarian Production Organization.\" \n",
    "\n",
    "The model is as above except that now we add in a farm-specific working capital constraint, or the requirement that farms must be able to hire their inputs up-front prior to sale of their crop.  \n",
    "\n",
    "\n",
    "(TODO: Complete)"
   ]
  }
 ],
 "metadata": {
  "hide_input": false,
  "kernelspec": {
   "display_name": "Python [default]",
   "language": "python",
   "name": "python3"
  },
  "language_info": {
   "codemirror_mode": {
    "name": "ipython",
    "version": 3
   },
   "file_extension": ".py",
   "mimetype": "text/x-python",
   "name": "python",
   "nbconvert_exporter": "python",
   "pygments_lexer": "ipython3",
   "version": "3.6.2"
  }
 },
 "nbformat": 4,
 "nbformat_minor": 1
}

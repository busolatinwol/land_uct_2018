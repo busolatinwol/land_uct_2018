{
  "cells": [
    {
      "cell_type": "markdown",
      "source": [
        "### UCT 2018: Land Governance course, Week 1\n",
        "\nDRAFT MATERIAL"
      ],
      "metadata": {}
    },
    {
      "cell_type": "markdown",
      "source": [
        "# Hotte (2001) Property Rights on the Frontier\n",
        "\n",
        "This is a simplified version of the model by Hotte(2001, 2013) \n",
        "\n",
        "```\n",
        "Hotte, Louis. 2001. “Conflicts over Property Rights and Natural-Resource Exploitation at the Frontier.” Journal of Development Economics 66 (1): 1–21.  \n",
        "\n",
        "Hotte, Louis. 2013. “Environmental Conflict and Natural Resources.” Reference Module in Earth Systems and Environmental Sciences from Encyclopedia of Energy, Natural Resource, and Environmental Economics, no. 3: 261–270.\n",
        "\n",
        "```\n"
      ],
      "metadata": {}
    },
    {
      "cell_type": "markdown",
      "source": [
        "Player A (first-mover, incumbent) and Player B (challenger) make defensive and incursive investments, respectively.\n",
        "\n",
        "*Contest  success function (CSF)*\n",
        "$$\\pi(x_A, x_B) = \\frac{x_A}{x_A+x_B}$$\n",
        "\n",
        "Sustainable use \n",
        "\n",
        "$$V_A^s=p \\cdot y_s +\\pi(x_A, x_B)\\frac{p \\cdot y_s}{1+r}-x_A$$\n",
        "\n",
        "$$V_B^s= (1-\\pi(x_A, x_B))\\frac{p \\cdot y_s}{1+r}-x_B$$\n",
        "\n",
        "But player $A$ can alos opt to *mine* the land, in which case payoffs are:\n",
        "\n",
        "$$V_A^m=p \\cdot y_m$$\n",
        "\n",
        "$$V_B^m= 0$$\n",
        "\nwhere $y_m>y_s$"
      ],
      "metadata": {
        "collapsed": true
      }
    },
    {
      "cell_type": "markdown",
      "source": [
        "Reaction function: \n",
        "\n$$\\frac{\\delta V_A^s}{\\delta x_A}=\\frac{\\delta \\pi(x_A,x_B)}{\\delta x_A}\\frac{p\\cdot y_s}{1+r}-1=0$$"
      ],
      "metadata": {}
    },
    {
      "cell_type": "markdown",
      "source": [
        "$$\\frac{x_B}{(x_A+x_B)^2}\\frac{p\\cdot y_s}{1+r}=1$$"
      ],
      "metadata": {}
    },
    {
      "cell_type": "markdown",
      "source": [
        "$$x_A(x_B) = \\sqrt{\\frac{x_B \\cdot p y_s}{1+r}} -x_B$$"
      ],
      "metadata": {}
    },
    {
      "cell_type": "markdown",
      "source": [
        "## Code section"
      ],
      "metadata": {}
    },
    {
      "cell_type": "code",
      "source": [
        "import matplotlib.pyplot as plt\n",
        "import numpy as np\n",
        "from ipywidgets import interact, fixed\n",
        "%matplotlib inline"
      ],
      "outputs": [],
      "execution_count": 18,
      "metadata": {
        "collapsed": true
      }
    },
    {
      "cell_type": "code",
      "source": [
        "P = 1.0\n",
        "YS = 130\n",
        "YM = 150\n",
        "R  = 0.0"
      ],
      "outputs": [],
      "execution_count": 91,
      "metadata": {
        "collapsed": true
      }
    },
    {
      "cell_type": "code",
      "source": [
        "def xa_r(xb, p=P, ys=YS, r = R):\n",
        "    return (xb*p*ys/(1+r))**(1/2) - xb\n",
        "\n",
        "def xb_r(xa, p=P, ys=YS, r = R):\n",
        "    return (xa*p*ys/(1+r))**(1/2) - xa\n",
        "\n",
        "def xnash(p=P, ys=YS, r=R):\n",
        "    return p*ys/(4*(1+r))\n",
        "\n",
        "def pr(xa,xb):\n",
        "    return xa/(xa+xb)\n",
        "\n",
        "def vA(p=P, ys=YS, ym=YM, r=R):\n",
        "    xn = xnash(p,ys,r)\n",
        "    return p*ys +  pr(xn,xn) *p*ys/(1+r) - xnash(p,ys,r), p*ym, 2*xn"
      ],
      "outputs": [],
      "execution_count": 92,
      "metadata": {}
    },
    {
      "cell_type": "code",
      "source": [
        "xxb = np.linspace(0,50,100)"
      ],
      "outputs": [],
      "execution_count": 93,
      "metadata": {
        "collapsed": true
      }
    },
    {
      "cell_type": "code",
      "source": [
        "def contest_plot(p=P, ys=YS, r = R):\n",
        "    plt.grid()\n",
        "    plt.scatter(xnash(p,ys,r), xnash(p,ys,r))\n",
        "    plt.plot(xxb,xa_r(xxb, p, ys, r))\n",
        "    plt.plot(xb_r(xxb, p, ys, r), xxb)\n",
        "    plt.show()"
      ],
      "outputs": [],
      "execution_count": 94,
      "metadata": {}
    },
    {
      "cell_type": "code",
      "source": [
        "contest_plot()"
      ],
      "outputs": [
        {
          "output_type": "display_data",
          "data": {
            "image/png": "[encoded data removed]",
            "text/plain": [
              "<matplotlib.figure.Figure at 0x8ea7400>"
            ]
          },
          "metadata": {}
        }
      ],
      "execution_count": 95,
      "metadata": {}
    },
    {
      "cell_type": "markdown",
      "source": [
        "Interactive widgets only visible on 'live' notebooks run on a notebook server."
      ],
      "metadata": {}
    },
    {
      "cell_type": "code",
      "source": [
        "interact(contest_plot);"
      ],
      "outputs": [
        {
          "output_type": "display_data",
          "data": {
            "application/vnd.jupyter.widget-view+json": {
              "model_id": "5c7de10647214c7bae603a1ab7978773",
              "version_major": 2,
              "version_minor": 0
            },
            "text/plain": [
              "A Jupyter Widget"
            ]
          },
          "metadata": {}
        }
      ],
      "execution_count": 96,
      "metadata": {}
    },
    {
      "cell_type": "code",
      "source": [
        "interact(vA);"
      ],
      "outputs": [
        {
          "output_type": "display_data",
          "data": {
            "application/vnd.jupyter.widget-view+json": {
              "model_id": "d77d03157f18434db2db1661d312606b",
              "version_major": 2,
              "version_minor": 0
            },
            "text/plain": [
              "A Jupyter Widget"
            ]
          },
          "metadata": {}
        }
      ],
      "execution_count": 97,
      "metadata": {}
    },
    {
      "cell_type": "markdown",
      "source": [
        "## Choice to mine or exploit with conflict.\n",
        "\n",
        "If the incumbent choose to 'mine' then conflict is avoided. But this illustrates the error of interpreting the absence of conflict as an indicator of the absence of a property rights problem. The 'shadow of conflict' is what drove them toward mining.\n",
        "\n",
        "TODO :  sections to still write\n",
        "\n",
        "- defense/incursion require real inputs that must be drawn away from productive uses\n",
        "- but conflict is not inherently destructive here.  Incumbent's lost property is property gained by the challenger, with no loss in the transfer. This could be modeled differently.\n",
        "- Examine private vs social costs of conflict.  For this particular model we are led to the possibility of 'too little conflict' under some parameter constellations\n",
        "- Explore comparative statics: what increases non-sustainable mining"
      ],
      "metadata": {}
    }
  ],
  "metadata": {
    "kernelspec": {
      "name": "python3",
      "language": "python",
      "display_name": "Python 3"
    },
    "language_info": {
      "name": "python",
      "version": "3.6.2",
      "mimetype": "text/x-python",
      "codemirror_mode": {
        "name": "ipython",
        "version": 3
      },
      "pygments_lexer": "ipython3",
      "nbconvert_exporter": "python",
      "file_extension": ".py"
    },
    "kernel_info": {
      "name": "python3"
    },
    "nteract": {
      "version": "0.2.0"
    }
  },
  "nbformat": 4,
  "nbformat_minor": 2
}
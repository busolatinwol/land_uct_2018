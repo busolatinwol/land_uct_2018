{
 "cells": [
  {
   "cell_type": "markdown",
   "metadata": {
    "slideshow": {
     "slide_type": "slide"
    }
   },
   "source": [
    "# Hotte (2001) Conflict and natural resources\n",
    "\n",
    "This presents a simplified adaptation of Hotte (2001, 2013) \n",
    "\n",
    "```\n",
    "Hotte, Louis. 2013. “Environmental Conflict and Natural Resources.” Reference Module in Earth Systems and Environmental Sciences from Encyclopedia of Energy, Natural Resource, and Environmental Economics, no. 3: 261–270.\n",
    "\n",
    "Hotte, Louis. 2001. “Conflicts over Property Rights and Natural-Resource Exploitation at the Frontier.” Journal of Development Economics 66 (1): 1–21.  \n",
    "```\n"
   ]
  },
  {
   "cell_type": "markdown",
   "metadata": {
    "slideshow": {
     "slide_type": "skip"
    }
   },
   "source": [
    "Note: This was written as a jupyter notebook with embedded text and python code.  To modify or interact with content below go to the [code section](#codesection) first. On a server you can also view this as a slideshow by pressing Alt-R."
   ]
  },
  {
   "cell_type": "markdown",
   "metadata": {
    "slideshow": {
     "slide_type": "slide"
    }
   },
   "source": [
    "- Most economic analyses study goods acquired via *production* or *exchange*. \n",
    "\n",
    "- 'Make or Buy' question at the center Coase's (1937) paper on boundaries of firm. \n",
    "\n",
    "- Modern theory of contracts and organizations also emphasizes voluntary 'exchange' part by including participation constraints that allow either party to withdraw before entering a situation that they expect would make them worse off. \n",
    "\n",
    "- Forceful **appropriation** has been ignored as a third important option. Yet fear of appropriation by others lies at heart of 'property rights insecurity.' "
   ]
  },
  {
   "cell_type": "markdown",
   "metadata": {
    "slideshow": {
     "slide_type": "slide"
    }
   },
   "source": [
    "**Appropriation** occurs when these two conditions both hold:\n",
    "- the control over a good or asset is transferred between the parties, and\n",
    "- at least one of the parties would not accept the transfer if it they were free to do so. "
   ]
  },
  {
   "cell_type": "markdown",
   "metadata": {
    "collapsed": true,
    "slideshow": {
     "slide_type": "slide"
    }
   },
   "source": [
    "### Hotte (2013)\n",
    "\n",
    "Player A (first-mover, incumbent) arrives at a frontier territory and can choose to exploit the resource sustainably to extract $y_s$ or to strip mine the resource and extract $p \\cdot y_m>p \\cdot y_s$. Where $p$ is the resource price.\n",
    "\n",
    "The game starts in period 0.  In a world of perfectly and costlessly enforced property rights sustainable use from period 1 onward would yield $y_s$ that period and then $py_s$ in perpetuity thereafter. Measured in units of period 1:\n",
    "\n",
    "$$V_1^s = \\left (1 +\\frac{1}{r} \\right ) \\cdot p y_s$$\n",
    "\n",
    "While mining may generate a short-term windfall, We assume that in a world of costlessly and perfectly enforced property rights sustainable use is more valuable than land mining:\n",
    "\n",
    "$$p \\cdot y_s \\lt p \\cdot y_m \\lt \\frac{V_1^s}{1+r}$$"
   ]
  },
  {
   "cell_type": "markdown",
   "metadata": {
    "collapsed": true,
    "slideshow": {
     "slide_type": "slide"
    }
   },
   "source": [
    "In the second period Player B (the challenger) arrives and both players make simultaneous defensive and incursive investments, respectively.\n",
    "\n",
    "**Contest  success function (CSF)**\n",
    "$$\\pi(x_A, x_B) = \\frac{x_A}{x_A+x_B}$$\n",
    "\n",
    "Defines the probability that player $A$ will win the contest."
   ]
  },
  {
   "cell_type": "markdown",
   "metadata": {
    "slideshow": {
     "slide_type": "slide"
    }
   },
   "source": [
    "![Hotte Game](media\\Hotte_game.png)"
   ]
  },
  {
   "cell_type": "markdown",
   "metadata": {
    "collapsed": true,
    "slideshow": {
     "slide_type": "slide"
    }
   },
   "source": [
    "Sustainable use:\n",
    "\n",
    "$$V_A^s=p \\cdot y_s +\\pi(x_A, x_B)\\frac{V_1^s}{1+r}-x_A$$\n",
    "\n",
    "$$V_B^s= (1-\\pi(x_A, x_B))\\frac{V_1^s}{1+r}-x_B$$"
   ]
  },
  {
   "cell_type": "markdown",
   "metadata": {
    "collapsed": true,
    "slideshow": {
     "slide_type": "slide"
    }
   },
   "source": [
    "If player $A$ opts to *mine* the land the payoffs are:\n",
    "\n",
    "$$V_A^m=p \\cdot y_m$$\n",
    "\n",
    "$$V_B^m= 0$$\n",
    "\n",
    "where $y_m>y_s$"
   ]
  },
  {
   "cell_type": "markdown",
   "metadata": {
    "slideshow": {
     "slide_type": "slide"
    }
   },
   "source": [
    "We can derive player $A$'s best-response or reaction function: \n",
    "\n",
    "$$\\frac{\\delta V_A^s}{\\delta x_A}=\\frac{\\delta \\pi(x_A,x_B)}{\\delta x_A}\\frac{V_1^s}{1+r}-1=0$$"
   ]
  },
  {
   "cell_type": "markdown",
   "metadata": {
    "slideshow": {
     "slide_type": "fragment"
    }
   },
   "source": [
    "rearranging:\n",
    "\n",
    "$$\\frac{x_B}{(x_A+x_B)^2}\\frac{V_1^s}{1+r}=1$$"
   ]
  },
  {
   "cell_type": "markdown",
   "metadata": {
    "slideshow": {
     "slide_type": "fragment"
    }
   },
   "source": [
    "We finally solve for:\n",
    "\n",
    "$$x_A(x_B) = \\sqrt{\\frac{x_B \\cdot V_1^s}{1+r}} -x_B$$"
   ]
  },
  {
   "cell_type": "markdown",
   "metadata": {
    "slideshow": {
     "slide_type": "fragment"
    }
   },
   "source": [
    "The challenger's reaction function is symmetric to that:\n",
    "\n",
    "$$x_B(x_A) = \\sqrt{\\frac{x_A \\cdot V_1^s}{1+r}} -x_A$$"
   ]
  },
  {
   "cell_type": "markdown",
   "metadata": {
    "slideshow": {
     "slide_type": "slide"
    }
   },
   "source": [
    "**Nash equilibrium level of appropriation**:\n",
    "\n",
    "$$x_A^e=x_B^e=\\frac{V_1^s}{4(1+r)}$$"
   ]
  },
  {
   "cell_type": "code",
   "execution_count": 10,
   "metadata": {
    "scrolled": true,
    "slideshow": {
     "slide_type": "slide"
    }
   },
   "outputs": [
    {
     "data": {
      "image/png": "[encoded data removed]",
      "text/plain": [
       "<matplotlib.figure.Figure at 0x23c3d2aae10>"
      ]
     },
     "metadata": {},
     "output_type": "display_data"
    }
   ],
   "source": [
    "contest_plot(p=0.8, ys=100, r=0.08)"
   ]
  },
  {
   "cell_type": "markdown",
   "metadata": {
    "slideshow": {
     "slide_type": "slide"
    }
   },
   "source": [
    "This interactive visualization works only if running on a jupyter server."
   ]
  },
  {
   "cell_type": "code",
   "execution_count": 11,
   "metadata": {
    "slideshow": {
     "slide_type": "fragment"
    }
   },
   "outputs": [
    {
     "data": {
      "application/vnd.jupyter.widget-view+json": {
       "model_id": "a1ebc514afef4a649f104a96fad95a85",
       "version_major": 2,
       "version_minor": 0
      },
      "text/html": [
       "<p>Failed to display Jupyter Widget of type <code>interactive</code>.</p>\n",
       "<p>\n",
       "  If you're reading this message in the Jupyter Notebook or JupyterLab Notebook, it may mean\n",
       "  that the widgets JavaScript is still loading. If this message persists, it\n",
       "  likely means that the widgets JavaScript library is either not installed or\n",
       "  not enabled. See the <a href=\"https://ipywidgets.readthedocs.io/en/stable/user_install.html\">Jupyter\n",
       "  Widgets Documentation</a> for setup instructions.\n",
       "</p>\n",
       "<p>\n",
       "  If you're reading this message in another frontend (for example, a static\n",
       "  rendering on GitHub or <a href=\"https://nbviewer.jupyter.org/\">NBViewer</a>),\n",
       "  it may mean that your frontend doesn't currently support widgets.\n",
       "</p>\n"
      ],
      "text/plain": [
       "interactive(children=(FloatSlider(value=1.0, description='p', max=1.0, min=0.5), IntSlider(value=130, description='ys', max=150, min=50, step=10), FloatSlider(value=0.1, description='r', max=0.5, min=0.02, step=0.02), Output()), _dom_classes=('widget-interact',))"
      ]
     },
     "metadata": {},
     "output_type": "display_data"
    }
   ],
   "source": [
    "interact(contest_plot, p=(0.5,1,0.1), ys=(50,150,10), r=(0.02,0.5,0.02));"
   ]
  },
  {
   "cell_type": "markdown",
   "metadata": {
    "slideshow": {
     "slide_type": "fragment"
    }
   },
   "source": [
    "**Conflict intensity:**:\n",
    "\n",
    "$$x_A^e + x_B^e=\\frac{V_1^s}{2(1+r)}$$\n",
    "\n",
    "In the predicted equilibrium the resources expended on appropriative activities are worth $\\frac{1}{2}$ the present value of the prize being sought."
   ]
  },
  {
   "cell_type": "markdown",
   "metadata": {
    "slideshow": {
     "slide_type": "slide"
    }
   },
   "source": [
    "Inserting $x_A^e$ and $x_B^e$ into (either) player's value function:\n",
    "\n",
    "$$V_A^{se} = \\left ( 1 +\\frac{1}{4r} \\right ) \\cdot p \\cdot y_s$$\n",
    "\n",
    "Compared to potential social benefit  $( 1 +1/r) \\cdot p \\cdot y_s$, the presence of conflict deducts $(3/4r)py_s$ from the value of sustainable use. "
   ]
  },
  {
   "cell_type": "markdown",
   "metadata": {
    "slideshow": {
     "slide_type": "fragment"
    }
   },
   "source": [
    "- reduction in probability of receiving resource stream from 1 to $\\frac{1}{2}$\n",
    "- the addition of appropriation costs $\\frac{V_1^s}{2(1+r)}$"
   ]
  },
  {
   "cell_type": "markdown",
   "metadata": {
    "slideshow": {
     "slide_type": "skip"
    }
   },
   "source": [
    "<a id='codesection'></a>\n",
    "## Code section\n",
    "\n",
    "Run the code below first. Then return and run the code cells above.\n",
    "\n",
    "This is where the python code (and possibly some unfinished explorations) are kept."
   ]
  },
  {
   "cell_type": "code",
   "execution_count": 1,
   "metadata": {
    "slideshow": {
     "slide_type": "skip"
    }
   },
   "outputs": [],
   "source": [
    "import matplotlib.pyplot as plt\n",
    "import numpy as np\n",
    "from ipywidgets import interact, fixed\n",
    "%matplotlib inline"
   ]
  },
  {
   "cell_type": "code",
   "execution_count": 2,
   "metadata": {
    "slideshow": {
     "slide_type": "skip"
    }
   },
   "outputs": [],
   "source": [
    "P = 1.0\n",
    "YS = 130\n",
    "YM = 150\n",
    "R  = 0.1"
   ]
  },
  {
   "cell_type": "code",
   "execution_count": 3,
   "metadata": {
    "slideshow": {
     "slide_type": "skip"
    }
   },
   "outputs": [],
   "source": [
    "def xa_r(xb, p=P, ys=YS, r = R):\n",
    "    V1s = (1+1/r)*p*ys\n",
    "    return (xb*V1s/(1+r))**(1/2) - xb\n",
    "\n",
    "def xb_r(xa, p=P, ys=YS, r = R):\n",
    "    V1s = (1+1/r)*p*ys\n",
    "    return (xa*V1s/(1+r))**(1/2) - xa\n",
    "\n",
    "def xnash(p=P, ys=YS, r=R):\n",
    "    V1s = (1+1/r)*p*ys\n",
    "    return V1s/(4*(1+r))\n",
    "\n",
    "def pr(xa,xb):\n",
    "    return xa/(xa+xb)\n",
    "\n",
    "def vA(p=P, ys=YS, ym=YM, r=R):\n",
    "    V1s = (1+1/r)*p*ys\n",
    "    xn = xnash(p,ys,r)\n",
    "    return p*ys +  pr(xn,xn)* V1s/(1+r) - xnash(p,ys,r), p*ym, 2*xn"
   ]
  },
  {
   "cell_type": "code",
   "execution_count": 4,
   "metadata": {
    "slideshow": {
     "slide_type": "skip"
    }
   },
   "outputs": [],
   "source": [
    "xxb = np.linspace(0,1000,1000)"
   ]
  },
  {
   "cell_type": "code",
   "execution_count": 5,
   "metadata": {
    "slideshow": {
     "slide_type": "skip"
    }
   },
   "outputs": [],
   "source": [
    "def contest_plot(p=P, ys=YS, r = R):\n",
    "    plt.grid()\n",
    "    plt.scatter(xnash(p,ys,r), xnash(p,ys,r))\n",
    "    plt.axes().set_aspect('equal', 'datalim')\n",
    "    plt.plot(xxb,xa_r(xxb, p, ys, r))\n",
    "    plt.plot(xb_r(xxb, p, ys, r), xxb)\n",
    "    plt.show()"
   ]
  },
  {
   "cell_type": "code",
   "execution_count": 6,
   "metadata": {
    "slideshow": {
     "slide_type": "skip"
    }
   },
   "outputs": [],
   "source": [
    "def contest_plot(p=P, ys=YS, r = R):\n",
    "    V1max = (1+1/r)*p*150\n",
    "    plt.grid()\n",
    "    plt.xlim(0,1000)\n",
    "    plt.ylim(0,1000)\n",
    "    plt.scatter(xnash(p,ys,r), xnash(p,ys,r))\n",
    "    plt.plot(xxb,xa_r(xxb, p, ys, r))\n",
    "    plt.plot(xb_r(xxb, p, ys, r), xxb)\n",
    "    plt.show()"
   ]
  },
  {
   "cell_type": "code",
   "execution_count": 7,
   "metadata": {
    "slideshow": {
     "slide_type": "skip"
    }
   },
   "outputs": [
    {
     "data": {
      "image/png": "[encoded data removed]",
      "text/plain": [
       "<matplotlib.figure.Figure at 0x23c3cf701d0>"
      ]
     },
     "metadata": {},
     "output_type": "display_data"
    }
   ],
   "source": [
    "contest_plot()"
   ]
  },
  {
   "cell_type": "markdown",
   "metadata": {
    "slideshow": {
     "slide_type": "skip"
    }
   },
   "source": [
    "Interactive widgets only visible on 'live' notebooks run on a notebook server."
   ]
  },
  {
   "cell_type": "code",
   "execution_count": 8,
   "metadata": {
    "slideshow": {
     "slide_type": "slide"
    }
   },
   "outputs": [
    {
     "data": {
      "application/vnd.jupyter.widget-view+json": {
       "model_id": "40b79a6343ef4749a19d28484be21e2e",
       "version_major": 2,
       "version_minor": 0
      },
      "text/html": [
       "<p>Failed to display Jupyter Widget of type <code>interactive</code>.</p>\n",
       "<p>\n",
       "  If you're reading this message in the Jupyter Notebook or JupyterLab Notebook, it may mean\n",
       "  that the widgets JavaScript is still loading. If this message persists, it\n",
       "  likely means that the widgets JavaScript library is either not installed or\n",
       "  not enabled. See the <a href=\"https://ipywidgets.readthedocs.io/en/stable/user_install.html\">Jupyter\n",
       "  Widgets Documentation</a> for setup instructions.\n",
       "</p>\n",
       "<p>\n",
       "  If you're reading this message in another frontend (for example, a static\n",
       "  rendering on GitHub or <a href=\"https://nbviewer.jupyter.org/\">NBViewer</a>),\n",
       "  it may mean that your frontend doesn't currently support widgets.\n",
       "</p>\n"
      ],
      "text/plain": [
       "interactive(children=(FloatSlider(value=1.0, description='p', max=1.0, min=0.5), IntSlider(value=130, description='ys', max=150, min=50, step=10), FloatSlider(value=0.1, description='r', max=0.5, min=0.02, step=0.02), Output()), _dom_classes=('widget-interact',))"
      ]
     },
     "metadata": {},
     "output_type": "display_data"
    }
   ],
   "source": [
    "interact(contest_plot, p=(0.5,1,0.1), ys=(50,150,10), r=(0.02,0.5,0.02));"
   ]
  },
  {
   "cell_type": "code",
   "execution_count": 9,
   "metadata": {
    "slideshow": {
     "slide_type": "slide"
    }
   },
   "outputs": [
    {
     "data": {
      "application/vnd.jupyter.widget-view+json": {
       "model_id": "1620aa3087604ff780e22534bfebd421",
       "version_major": 2,
       "version_minor": 0
      },
      "text/html": [
       "<p>Failed to display Jupyter Widget of type <code>interactive</code>.</p>\n",
       "<p>\n",
       "  If you're reading this message in the Jupyter Notebook or JupyterLab Notebook, it may mean\n",
       "  that the widgets JavaScript is still loading. If this message persists, it\n",
       "  likely means that the widgets JavaScript library is either not installed or\n",
       "  not enabled. See the <a href=\"https://ipywidgets.readthedocs.io/en/stable/user_install.html\">Jupyter\n",
       "  Widgets Documentation</a> for setup instructions.\n",
       "</p>\n",
       "<p>\n",
       "  If you're reading this message in another frontend (for example, a static\n",
       "  rendering on GitHub or <a href=\"https://nbviewer.jupyter.org/\">NBViewer</a>),\n",
       "  it may mean that your frontend doesn't currently support widgets.\n",
       "</p>\n"
      ],
      "text/plain": [
       "interactive(children=(FloatSlider(value=1.0, description='p', max=3.0, min=-1.0), IntSlider(value=130, description='ys', max=390, min=-130), IntSlider(value=150, description='ym', max=450, min=-150), FloatSlider(value=0.1, description='r', max=0.30000000000000004, min=-0.1), Output()), _dom_classes=('widget-interact',))"
      ]
     },
     "metadata": {},
     "output_type": "display_data"
    }
   ],
   "source": [
    "interact(vA);"
   ]
  },
  {
   "cell_type": "markdown",
   "metadata": {},
   "source": [
    "## Choice to mine or exploit with conflict.\n",
    "\n",
    "If the incumbent choose to 'mine' then conflict is avoided. But this illustrates the error of interpreting the absence of conflict as an indicator of the absence of a property rights problem. The 'shadow of conflict' is what drove them toward mining.\n",
    "\n",
    "TODO :  sections to still write\n",
    "\n",
    "- defense/incursion require real inputs that must be drawn away from productive uses\n",
    "- but conflict is not inherently destructive here.  Incumbent's lost property is property gained by the challenger, with no loss in the transfer. This could be modeled differently.\n",
    "- Examine private vs social costs of conflict.  For this particular model we are led to the possibility of 'too little conflict' under some parameter constellations\n",
    "- Explore comparative statics: what increases non-sustainable mining"
   ]
  }
 ],
 "metadata": {
  "hide_input": false,
  "kernel_info": {
   "name": "python3"
  },
  "kernelspec": {
   "display_name": "Python [default]",
   "language": "python",
   "name": "python3"
  },
  "language_info": {
   "codemirror_mode": {
    "name": "ipython",
    "version": 3
   },
   "file_extension": ".py",
   "mimetype": "text/x-python",
   "name": "python",
   "nbconvert_exporter": "python",
   "pygments_lexer": "ipython3",
   "version": "3.6.3"
  },
  "nteract": {
   "version": "0.2.0"
  },
  "widgets": {
   "application/vnd.jupyter.widget-state+json": {
    "state": {
     "02cb4795bb0543159fe0ffb2d2ca843d": {
      "model_module": "@jupyter-widgets/output",
      "model_module_version": "1.0.0",
      "model_name": "OutputModel",
      "state": {
       "layout": "IPY_MODEL_d95b98ea4ec54a7e905742e252fe7abf",
       "outputs": [
        {
         "data": {
          "image/png": "iVBORw0KGgoAAAANSUhEUgAAAYAAAAD8CAYAAAB+UHOxAAAABHNCSVQICAgIfAhkiAAAAAlwSFlz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\nYQAAAABJRU5ErkJggg==\n",
          "text/plain": "<matplotlib.figure.Figure at 0x250c7667780>"
         },
         "metadata": {},
         "output_type": "display_data"
        }
       ]
      }
     },
     "03fe294b23044fbe9d7cb54d951bec86": {
      "model_module": "@jupyter-widgets/base",
      "model_module_version": "1.0.0",
      "model_name": "LayoutModel",
      "state": {}
     },
     "0457f30a8d8d4a8f9f3cd32ac0951dd3": {
      "model_module": "@jupyter-widgets/base",
      "model_module_version": "1.0.0",
      "model_name": "LayoutModel",
      "state": {}
     },
     "0742e2e7c30e4881924608cc541cc927": {
      "model_module": "@jupyter-widgets/base",
      "model_module_version": "1.0.0",
      "model_name": "LayoutModel",
      "state": {}
     },
     "084c4a649f8e44cc8d726eff815b4ddd": {
      "model_module": "@jupyter-widgets/controls",
      "model_module_version": "1.0.0",
      "model_name": "FloatSliderModel",
      "state": {
       "description": "p",
       "layout": "IPY_MODEL_db47a6d2fdd54d71adc5f0f021a975d5",
       "max": 1,
       "min": 0.5,
       "step": 0.1,
       "style": "IPY_MODEL_ecc846f224f940a5a510a74cec328240",
       "value": 1
      }
     },
     "0869339f5579420e87350964d29b375c": {
      "model_module": "@jupyter-widgets/controls",
      "model_module_version": "1.0.0",
      "model_name": "SliderStyleModel",
      "state": {
       "description_width": ""
      }
     },
     "0e25af47102c4485ac4da76d329dd458": {
      "model_module": "@jupyter-widgets/base",
      "model_module_version": "1.0.0",
      "model_name": "LayoutModel",
      "state": {}
     },
     "0f3973613940492cac51349e63d29b68": {
      "model_module": "@jupyter-widgets/controls",
      "model_module_version": "1.0.0",
      "model_name": "FloatSliderModel",
      "state": {
       "description": "r",
       "layout": "IPY_MODEL_bffb53ce4bfe44ee93a9ec9c7dfa5805",
       "max": 0.30000000000000004,
       "min": -0.1,
       "step": 0.1,
       "style": "IPY_MODEL_aea35351287d4244a638a117992dcb67",
       "value": 0.1
      }
     },
     "1419d553d0bd43709ff064179eef033e": {
      "model_module": "@jupyter-widgets/base",
      "model_module_version": "1.0.0",
      "model_name": "LayoutModel",
      "state": {}
     },
     "1620aa3087604ff780e22534bfebd421": {
      "model_module": "@jupyter-widgets/controls",
      "model_module_version": "1.0.0",
      "model_name": "VBoxModel",
      "state": {
       "_dom_classes": [
        "widget-interact"
       ],
       "children": [
        "IPY_MODEL_ecd164c6c8c94f2782a49f5b55ffbf75",
        "IPY_MODEL_43ed1ba0a259467680171c9074138175",
        "IPY_MODEL_6b71c190dfcd4ede8170dc4ea0b5238b",
        "IPY_MODEL_b3f07becbccf402f8d0a6e3943d01b25",
        "IPY_MODEL_a597efae888747adaa7c5c234e86a67e"
       ],
       "layout": "IPY_MODEL_dd58d50ee48a4dc7971256068f03c072"
      }
     },
     "17856e3f8b9c48c081dade4cd66fdfce": {
      "model_module": "@jupyter-widgets/controls",
      "model_module_version": "1.0.0",
      "model_name": "SliderStyleModel",
      "state": {
       "description_width": ""
      }
     },
     "182388d77b01490d9b1e6928a87d2de6": {
      "model_module": "@jupyter-widgets/controls",
      "model_module_version": "1.0.0",
      "model_name": "FloatSliderModel",
      "state": {
       "description": "p",
       "layout": "IPY_MODEL_d679bbbacd0a4a6f9026fbb196532922",
       "max": 1,
       "min": 0.5,
       "step": 0.1,
       "style": "IPY_MODEL_d27c56e9e13a4dc58fdfc6e439022b1d",
       "value": 1
      }
     },
     "1875dcdfb74e422f86bba7988ab9f52c": {
      "model_module": "@jupyter-widgets/controls",
      "model_module_version": "1.0.0",
      "model_name": "VBoxModel",
      "state": {
       "_dom_classes": [
        "widget-interact"
       ],
       "children": [
        "IPY_MODEL_798ffbf469ec4577a1b2bff5b92d4a11",
        "IPY_MODEL_bc4fc7f286354884913ebc03f0f6cc51",
        "IPY_MODEL_ff3369d46c294dac9a6f2bba44a7b34f",
        "IPY_MODEL_02cb4795bb0543159fe0ffb2d2ca843d"
       ],
       "layout": "IPY_MODEL_1e14750f0cab49ec846b566657277680"
      }
     },
     "1d78d2bd538b431d9facaaa9f63ba401": {
      "model_module": "@jupyter-widgets/controls",
      "model_module_version": "1.0.0",
      "model_name": "VBoxModel",
      "state": {
       "_dom_classes": [
        "widget-interact"
       ],
       "children": [
        "IPY_MODEL_9f94793f359c4138974a2b00d4bf669a",
        "IPY_MODEL_bf51af10eb7f4ce08ad8bd262a25b3b1",
        "IPY_MODEL_0f3973613940492cac51349e63d29b68",
        "IPY_MODEL_3926537fa9dd491481a2e0a0c5bd5c76"
       ],
       "layout": "IPY_MODEL_4891351a82934781bfc000f8b2173dc3"
      }
     },
     "1d8256e328894be6818ab4db033d738a": {
      "model_module": "@jupyter-widgets/controls",
      "model_module_version": "1.0.0",
      "model_name": "SliderStyleModel",
      "state": {
       "description_width": ""
      }
     },
     "1d9e03a555d14a5db47a1e3ef8cdee17": {
      "model_module": "@jupyter-widgets/controls",
      "model_module_version": "1.0.0",
      "model_name": "VBoxModel",
      "state": {
       "_dom_classes": [
        "widget-interact"
       ],
       "children": [
        "IPY_MODEL_89a982be124246f082b1b4132e7474b1",
        "IPY_MODEL_db3a86df0c354b6c9c53efdd2fbbd808",
        "IPY_MODEL_efdb1ead4ead4fa9ace506359f01bcbd",
        "IPY_MODEL_bf07e27c7e9547ebb3bf110a989c123b"
       ],
       "layout": "IPY_MODEL_b4393222ecac45e3b8ff0c3d2cb7fa12"
      }
     },
     "1e14750f0cab49ec846b566657277680": {
      "model_module": "@jupyter-widgets/base",
      "model_module_version": "1.0.0",
      "model_name": "LayoutModel",
      "state": {}
     },
     "23c20d34ce894c62bd7cc0b115f69b23": {
      "model_module": "@jupyter-widgets/controls",
      "model_module_version": "1.0.0",
      "model_name": "SliderStyleModel",
      "state": {
       "description_width": ""
      }
     },
     "2461d59ad1514452b1484c3232aac4e1": {
      "model_module": "@jupyter-widgets/controls",
      "model_module_version": "1.0.0",
      "model_name": "IntSliderModel",
      "state": {
       "description": "ys",
       "layout": "IPY_MODEL_5dd9963cb7f146e48eed7fb91c5a3fe5",
       "max": 150,
       "min": 50,
       "step": 10,
       "style": "IPY_MODEL_505144fc54b148d08f90295a36025624",
       "value": 100
      }
     },
     "2891b44e221640409297e13fd9fca10e": {
      "model_module": "@jupyter-widgets/base",
      "model_module_version": "1.0.0",
      "model_name": "LayoutModel",
      "state": {}
     },
     "2cf0956fbd924ea09c8f5e9640de3298": {
      "model_module": "@jupyter-widgets/controls",
      "model_module_version": "1.0.0",
      "model_name": "FloatSliderModel",
      "state": {
       "description": "p",
       "layout": "IPY_MODEL_9859eca1ea264faa944373653f6157c8",
       "max": 1,
       "min": 0.5,
       "step": 0.1,
       "style": "IPY_MODEL_a1d5cf07babf4475baf24b856c509ae5",
       "value": 0.8
      }
     },
     "2fe7d99a95ce4162ae01143a11c1af35": {
      "model_module": "@jupyter-widgets/controls",
      "model_module_version": "1.0.0",
      "model_name": "SliderStyleModel",
      "state": {
       "description_width": ""
      }
     },
     "2feb532ad5da48feabd17be1652c5533": {
      "model_module": "@jupyter-widgets/controls",
      "model_module_version": "1.0.0",
      "model_name": "IntSliderModel",
      "state": {
       "description": "ys",
       "layout": "IPY_MODEL_45b257c90780498ba19b6a61c99a798d",
       "max": 150,
       "min": 50,
       "step": 10,
       "style": "IPY_MODEL_935ad7f47e3c4a378f838c304ede1f43",
       "value": 130
      }
     },
     "305b48a0d22e4e9787a9e2663620e79e": {
      "model_module": "@jupyter-widgets/base",
      "model_module_version": "1.0.0",
      "model_name": "LayoutModel",
      "state": {}
     },
     "32253298e935403a89102bd22dd9c185": {
      "model_module": "@jupyter-widgets/controls",
      "model_module_version": "1.0.0",
      "model_name": "FloatSliderModel",
      "state": {
       "description": "p",
       "layout": "IPY_MODEL_1419d553d0bd43709ff064179eef033e",
       "max": 1,
       "min": 0.5,
       "step": 0.1,
       "style": "IPY_MODEL_dccfd41d35514431bcc69001b3212c56",
       "value": 1
      }
     },
     "325471c8c29c423cb31f3630f33a6920": {
      "model_module": "@jupyter-widgets/controls",
      "model_module_version": "1.0.0",
      "model_name": "VBoxModel",
      "state": {
       "_dom_classes": [
        "widget-interact"
       ],
       "children": [
        "IPY_MODEL_2cf0956fbd924ea09c8f5e9640de3298",
        "IPY_MODEL_2461d59ad1514452b1484c3232aac4e1",
        "IPY_MODEL_b01d4627d9fd42f8bf1c931622b3290b",
        "IPY_MODEL_e9491af6db0f407fb83c6f97906c7aac"
       ],
       "layout": "IPY_MODEL_3ffe34dbf0104b7295d3662e811b6756"
      }
     },
     "33648fcd9ece4e599e7970a569070ce8": {
      "model_module": "@jupyter-widgets/controls",
      "model_module_version": "1.0.0",
      "model_name": "FloatSliderModel",
      "state": {
       "description": "r",
       "layout": "IPY_MODEL_0742e2e7c30e4881924608cc541cc927",
       "max": 0.5,
       "min": 0.02,
       "step": 0.02,
       "style": "IPY_MODEL_f4dea1a1fba24b038bf70daf0529d4b4",
       "value": 0.1
      }
     },
     "34e9785608194fe7a890a0aaac901b21": {
      "model_module": "@jupyter-widgets/controls",
      "model_module_version": "1.0.0",
      "model_name": "SliderStyleModel",
      "state": {
       "description_width": ""
      }
     },
     "372284a7463247f18deb8b1281d43ec6": {
      "model_module": "@jupyter-widgets/output",
      "model_module_version": "1.0.0",
      "model_name": "OutputModel",
      "state": {
       "layout": "IPY_MODEL_95e4c04f0d354039a1c4ded9bff87302",
       "outputs": [
        {
         "data": {
          "image/png": "iVBORw0KGgoAAAANSUhEUgAAAYAAAAD8CAYAAAB+UHOxAAAABHNCSVQICAgIfAhkiAAAAAlwSFlz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\nQmCC\n",
          "text/plain": "<matplotlib.figure.Figure at 0x250c8858a20>"
         },
         "metadata": {},
         "output_type": "display_data"
        }
       ]
      }
     },
     "3926537fa9dd491481a2e0a0c5bd5c76": {
      "model_module": "@jupyter-widgets/output",
      "model_module_version": "1.0.0",
      "model_name": "OutputModel",
      "state": {
       "layout": "IPY_MODEL_eb589977de974000882d28f08fe28184",
       "outputs": [
        {
         "data": {
          "image/png": "iVBORw0KGgoAAAANSUhEUgAAAYAAAAD8CAYAAAB+UHOxAAAABHNCSVQICAgIfAhkiAAAAAlwSFlz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\nEzTDAAAAAElFTkSuQmCC\n",
          "text/plain": "<matplotlib.figure.Figure at 0x250c72df160>"
         },
         "metadata": {},
         "output_type": "display_data"
        }
       ]
      }
     },
     "3999f94d2be84a5f8e35653ba6ea85d3": {
      "model_module": "@jupyter-widgets/base",
      "model_module_version": "1.0.0",
      "model_name": "LayoutModel",
      "state": {}
     },
     "3ae4ecfc680e48479fc4a5cce887cd45": {
      "model_module": "@jupyter-widgets/base",
      "model_module_version": "1.0.0",
      "model_name": "LayoutModel",
      "state": {}
     },
     "3c53512834974666aea9359a54a01eb7": {
      "model_module": "@jupyter-widgets/base",
      "model_module_version": "1.0.0",
      "model_name": "LayoutModel",
      "state": {}
     },
     "3fb786fb629145a9bd4608efd4e1ac6f": {
      "model_module": "@jupyter-widgets/output",
      "model_module_version": "1.0.0",
      "model_name": "OutputModel",
      "state": {
       "layout": "IPY_MODEL_e2afcf036a6140619b86133752417ebb",
       "outputs": [
        {
         "data": {
          "image/png": "iVBORw0KGgoAAAANSUhEUgAAAXoAAAD8CAYAAAB5Pm/hAAAABHNCSVQICAgIfAhkiAAAAAlwSFlz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\nAAAASUVORK5CYII=\n",
          "text/plain": "<matplotlib.figure.Figure at 0x250c8963860>"
         },
         "metadata": {},
         "output_type": "display_data"
        }
       ]
      }
     },
     "3ffe34dbf0104b7295d3662e811b6756": {
      "model_module": "@jupyter-widgets/base",
      "model_module_version": "1.0.0",
      "model_name": "LayoutModel",
      "state": {}
     },
     "40b79a6343ef4749a19d28484be21e2e": {
      "model_module": "@jupyter-widgets/controls",
      "model_module_version": "1.0.0",
      "model_name": "VBoxModel",
      "state": {
       "_dom_classes": [
        "widget-interact"
       ],
       "children": [
        "IPY_MODEL_182388d77b01490d9b1e6928a87d2de6",
        "IPY_MODEL_2feb532ad5da48feabd17be1652c5533",
        "IPY_MODEL_86805f7872d34defbe22823360f06ff5",
        "IPY_MODEL_f42a26cfb65c41328b01e14fd94eff9c"
       ],
       "layout": "IPY_MODEL_b37cbaddd55b475e9a8b25a0905d5fdd"
      }
     },
     "4177d59919bc45cf85e2ce01fdd92a9c": {
      "model_module": "@jupyter-widgets/controls",
      "model_module_version": "1.0.0",
      "model_name": "SliderStyleModel",
      "state": {
       "description_width": ""
      }
     },
     "43ed1ba0a259467680171c9074138175": {
      "model_module": "@jupyter-widgets/controls",
      "model_module_version": "1.0.0",
      "model_name": "IntSliderModel",
      "state": {
       "description": "ys",
       "layout": "IPY_MODEL_60b2df8995da4bffb0ad4f429d4183eb",
       "max": 390,
       "min": -130,
       "style": "IPY_MODEL_e8ad1a11e51f42fb9c9ef4f2db94ceca",
       "value": 130
      }
     },
     "45ae99de6d3c4506bb189894359c8c62": {
      "model_module": "@jupyter-widgets/controls",
      "model_module_version": "1.0.0",
      "model_name": "VBoxModel",
      "state": {
       "_dom_classes": [
        "widget-interact"
       ],
       "children": [
        "IPY_MODEL_32253298e935403a89102bd22dd9c185",
        "IPY_MODEL_61b4e8169d464e2cbb683bc55a5a6362",
        "IPY_MODEL_4a9d391fdeac4b6580e98ae81524e5e4",
        "IPY_MODEL_9fd5494021774be786751d0a74330a84"
       ],
       "layout": "IPY_MODEL_9ae6301c363e4da1a6af9e581f8a8d11"
      }
     },
     "45b257c90780498ba19b6a61c99a798d": {
      "model_module": "@jupyter-widgets/base",
      "model_module_version": "1.0.0",
      "model_name": "LayoutModel",
      "state": {}
     },
     "46211c29b05e4ccc9fbabfe14405fc48": {
      "model_module": "@jupyter-widgets/base",
      "model_module_version": "1.0.0",
      "model_name": "LayoutModel",
      "state": {}
     },
     "47bd1760d4a1406c9eeea33aba1a55f7": {
      "model_module": "@jupyter-widgets/controls",
      "model_module_version": "1.0.0",
      "model_name": "FloatSliderModel",
      "state": {
       "description": "p",
       "layout": "IPY_MODEL_d1eeaa37b27c46fd8417505ecf4d8f4b",
       "max": 3,
       "min": -1,
       "step": 0.1,
       "style": "IPY_MODEL_619d38c24fc147b29ebba51f75d66ab0",
       "value": 1.1
      }
     },
     "47c1e181fa35459f87aa1eea3552b5cb": {
      "model_module": "@jupyter-widgets/base",
      "model_module_version": "1.0.0",
      "model_name": "LayoutModel",
      "state": {}
     },
     "48452bf52eb94ec9801adf6a203a82ec": {
      "model_module": "@jupyter-widgets/controls",
      "model_module_version": "1.0.0",
      "model_name": "FloatSliderModel",
      "state": {
       "description": "p",
       "layout": "IPY_MODEL_2891b44e221640409297e13fd9fca10e",
       "max": 1,
       "min": 0.5,
       "step": 0.1,
       "style": "IPY_MODEL_7cf8f375531b431ab165efd8e49b6b75",
       "value": 1
      }
     },
     "4891351a82934781bfc000f8b2173dc3": {
      "model_module": "@jupyter-widgets/base",
      "model_module_version": "1.0.0",
      "model_name": "LayoutModel",
      "state": {}
     },
     "4a9d391fdeac4b6580e98ae81524e5e4": {
      "model_module": "@jupyter-widgets/controls",
      "model_module_version": "1.0.0",
      "model_name": "FloatSliderModel",
      "state": {
       "description": "r",
       "layout": "IPY_MODEL_608c6badb55444ef9f95af0715690685",
       "max": 0.5,
       "min": 0.02,
       "step": 0.02,
       "style": "IPY_MODEL_87bce3a6556042cd834eff662ebc574e",
       "value": 0.14
      }
     },
     "4bd69b66c9c44b448da0117ad0a465a6": {
      "model_module": "@jupyter-widgets/controls",
      "model_module_version": "1.0.0",
      "model_name": "SliderStyleModel",
      "state": {
       "description_width": ""
      }
     },
     "4d270d90919c49df9019f9e7af2a4009": {
      "model_module": "@jupyter-widgets/controls",
      "model_module_version": "1.0.0",
      "model_name": "SliderStyleModel",
      "state": {
       "description_width": ""
      }
     },
     "4d6c79fca9894e92bcf139e163e4cc80": {
      "model_module": "@jupyter-widgets/controls",
      "model_module_version": "1.0.0",
      "model_name": "SliderStyleModel",
      "state": {
       "description_width": ""
      }
     },
     "4ebc4d1e4a4046f9a2c4297c8b8ec014": {
      "model_module": "@jupyter-widgets/controls",
      "model_module_version": "1.0.0",
      "model_name": "SliderStyleModel",
      "state": {
       "description_width": ""
      }
     },
     "505144fc54b148d08f90295a36025624": {
      "model_module": "@jupyter-widgets/controls",
      "model_module_version": "1.0.0",
      "model_name": "SliderStyleModel",
      "state": {
       "description_width": ""
      }
     },
     "50a60c10583c4d7892436f7c272a6f28": {
      "model_module": "@jupyter-widgets/base",
      "model_module_version": "1.0.0",
      "model_name": "LayoutModel",
      "state": {}
     },
     "50cf80e2c8a7457aae90efd0af09e118": {
      "model_module": "@jupyter-widgets/base",
      "model_module_version": "1.0.0",
      "model_name": "LayoutModel",
      "state": {}
     },
     "56d18747f6664b6cb39636130c2bbbad": {
      "model_module": "@jupyter-widgets/controls",
      "model_module_version": "1.0.0",
      "model_name": "IntSliderModel",
      "state": {
       "description": "ys",
       "layout": "IPY_MODEL_63b26be957924460be57c6ac0d1935dc",
       "max": 150,
       "min": 50,
       "step": 10,
       "style": "IPY_MODEL_4d6c79fca9894e92bcf139e163e4cc80",
       "value": 50
      }
     },
     "5dd9963cb7f146e48eed7fb91c5a3fe5": {
      "model_module": "@jupyter-widgets/base",
      "model_module_version": "1.0.0",
      "model_name": "LayoutModel",
      "state": {}
     },
     "608c6badb55444ef9f95af0715690685": {
      "model_module": "@jupyter-widgets/base",
      "model_module_version": "1.0.0",
      "model_name": "LayoutModel",
      "state": {}
     },
     "60b2df8995da4bffb0ad4f429d4183eb": {
      "model_module": "@jupyter-widgets/base",
      "model_module_version": "1.0.0",
      "model_name": "LayoutModel",
      "state": {}
     },
     "619d38c24fc147b29ebba51f75d66ab0": {
      "model_module": "@jupyter-widgets/controls",
      "model_module_version": "1.0.0",
      "model_name": "SliderStyleModel",
      "state": {
       "description_width": ""
      }
     },
     "61b4e8169d464e2cbb683bc55a5a6362": {
      "model_module": "@jupyter-widgets/controls",
      "model_module_version": "1.0.0",
      "model_name": "IntSliderModel",
      "state": {
       "description": "ys",
       "layout": "IPY_MODEL_a11540c5dae140f481233d113a69d28f",
       "max": 150,
       "min": 50,
       "step": 10,
       "style": "IPY_MODEL_cfb1b81ed29a455abf583485bfa29052",
       "value": 150
      }
     },
     "63b26be957924460be57c6ac0d1935dc": {
      "model_module": "@jupyter-widgets/base",
      "model_module_version": "1.0.0",
      "model_name": "LayoutModel",
      "state": {}
     },
     "6734d3269a8344cda2bbb6f75ba0d6a7": {
      "model_module": "@jupyter-widgets/base",
      "model_module_version": "1.0.0",
      "model_name": "LayoutModel",
      "state": {}
     },
     "6a2e676810764c99a0debb37e3078139": {
      "model_module": "@jupyter-widgets/controls",
      "model_module_version": "1.0.0",
      "model_name": "SliderStyleModel",
      "state": {
       "description_width": ""
      }
     },
     "6b71c190dfcd4ede8170dc4ea0b5238b": {
      "model_module": "@jupyter-widgets/controls",
      "model_module_version": "1.0.0",
      "model_name": "IntSliderModel",
      "state": {
       "description": "ym",
       "layout": "IPY_MODEL_ef77d3067bc34e869a1cf483978356bf",
       "max": 450,
       "min": -150,
       "style": "IPY_MODEL_34e9785608194fe7a890a0aaac901b21",
       "value": 150
      }
     },
     "6f03535156c84aafb1ba875bddf1d926": {
      "model_module": "@jupyter-widgets/output",
      "model_module_version": "1.0.0",
      "model_name": "OutputModel",
      "state": {
       "layout": "IPY_MODEL_bb799c76846d47ea9c447dead858dd0f",
       "outputs": [
        {
         "data": {
          "text/plain": "(26.399999999999977, 180.4, 396.00000000000006)"
         },
         "metadata": {},
         "output_type": "display_data"
        }
       ]
      }
     },
     "6f6cdf590ce6433783346120477eac5e": {
      "model_module": "@jupyter-widgets/base",
      "model_module_version": "1.0.0",
      "model_name": "LayoutModel",
      "state": {}
     },
     "7260284264224daf87493b3fc328010f": {
      "model_module": "@jupyter-widgets/controls",
      "model_module_version": "1.0.0",
      "model_name": "FloatSliderModel",
      "state": {
       "description": "r",
       "layout": "IPY_MODEL_98aac87b03e74ed6b764a67ce2b9db4c",
       "max": 1,
       "step": 0.1,
       "style": "IPY_MODEL_dfb098cb44af4e3498ca6a387dc789e3",
       "value": 0.2
      }
     },
     "73f125e8414e480c9175e849a2fa01c5": {
      "model_module": "@jupyter-widgets/controls",
      "model_module_version": "1.0.0",
      "model_name": "FloatSliderModel",
      "state": {
       "description": "p",
       "layout": "IPY_MODEL_ade5bd65c9024b7cb1a9eef718a31484",
       "max": 1,
       "min": 0.5,
       "step": 0.1,
       "style": "IPY_MODEL_d5c92478a75f4bc18f1bf199d895bff2",
       "value": 1
      }
     },
     "78b040f1b4814e9e922739ed2bb4123c": {
      "model_module": "@jupyter-widgets/output",
      "model_module_version": "1.0.0",
      "model_name": "OutputModel",
      "state": {
       "layout": "IPY_MODEL_f9c11594376a4d0b9286b8060857a164",
       "outputs": [
        {
         "data": {
          "image/png": "iVBORw0KGgoAAAANSUhEUgAAAYkAAAD8CAYAAACCRVh7AAAABHNCSVQICAgIfAhkiAAAAAlwSFlz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\nCaWUUn3SkFBKKdWn/w9hcN0lV5jM0gAAAABJRU5ErkJggg==\n",
          "text/plain": "<matplotlib.figure.Figure at 0x23c3d374a20>"
         },
         "metadata": {},
         "output_type": "display_data"
        }
       ]
      }
     },
     "794728f9cf82450094110b25dd3860db": {
      "model_module": "@jupyter-widgets/controls",
      "model_module_version": "1.0.0",
      "model_name": "IntSliderModel",
      "state": {
       "description": "ys",
       "layout": "IPY_MODEL_9023d9aec89a44e5b5c820e65632f3c1",
       "max": 200,
       "min": 50,
       "step": 10,
       "style": "IPY_MODEL_1d8256e328894be6818ab4db033d738a",
       "value": 130
      }
     },
     "798ffbf469ec4577a1b2bff5b92d4a11": {
      "model_module": "@jupyter-widgets/controls",
      "model_module_version": "1.0.0",
      "model_name": "FloatSliderModel",
      "state": {
       "description": "p",
       "layout": "IPY_MODEL_46211c29b05e4ccc9fbabfe14405fc48",
       "max": 1,
       "min": 0.5,
       "step": 0.1,
       "style": "IPY_MODEL_4177d59919bc45cf85e2ce01fdd92a9c",
       "value": 1
      }
     },
     "7cf8f375531b431ab165efd8e49b6b75": {
      "model_module": "@jupyter-widgets/controls",
      "model_module_version": "1.0.0",
      "model_name": "SliderStyleModel",
      "state": {
       "description_width": ""
      }
     },
     "7ddf3101c3c54521a64425fff193c3c9": {
      "model_module": "@jupyter-widgets/controls",
      "model_module_version": "1.0.0",
      "model_name": "SliderStyleModel",
      "state": {
       "description_width": ""
      }
     },
     "848aac382ea848cfa2527e6f6acb6abf": {
      "model_module": "@jupyter-widgets/base",
      "model_module_version": "1.0.0",
      "model_name": "LayoutModel",
      "state": {}
     },
     "86805f7872d34defbe22823360f06ff5": {
      "model_module": "@jupyter-widgets/controls",
      "model_module_version": "1.0.0",
      "model_name": "FloatSliderModel",
      "state": {
       "description": "r",
       "layout": "IPY_MODEL_dce7da9da64d4575bf286196928f60b3",
       "max": 0.5,
       "min": 0.02,
       "step": 0.02,
       "style": "IPY_MODEL_e20982423c4d4155a6ae36f17ce6eb10",
       "value": 0.1
      }
     },
     "87bce3a6556042cd834eff662ebc574e": {
      "model_module": "@jupyter-widgets/controls",
      "model_module_version": "1.0.0",
      "model_name": "SliderStyleModel",
      "state": {
       "description_width": ""
      }
     },
     "89a982be124246f082b1b4132e7474b1": {
      "model_module": "@jupyter-widgets/controls",
      "model_module_version": "1.0.0",
      "model_name": "FloatSliderModel",
      "state": {
       "description": "p",
       "layout": "IPY_MODEL_976150d16e9a49338425dc05b3fe344e",
       "max": 1,
       "min": 0.5,
       "step": 0.1,
       "style": "IPY_MODEL_bf280d5542ab496794894730ca9781ea",
       "value": 1
      }
     },
     "8b40b81ef7fc42a5a46bde8759a085de": {
      "model_module": "@jupyter-widgets/base",
      "model_module_version": "1.0.0",
      "model_name": "LayoutModel",
      "state": {}
     },
     "8f009efcba3b48989041cc9f33b6525d": {
      "model_module": "@jupyter-widgets/controls",
      "model_module_version": "1.0.0",
      "model_name": "VBoxModel",
      "state": {
       "_dom_classes": [
        "widget-interact"
       ],
       "children": [
        "IPY_MODEL_73f125e8414e480c9175e849a2fa01c5",
        "IPY_MODEL_794728f9cf82450094110b25dd3860db",
        "IPY_MODEL_bcc2b0fb3a924403ae06393fb26a2dce",
        "IPY_MODEL_372284a7463247f18deb8b1281d43ec6"
       ],
       "layout": "IPY_MODEL_afe1253c2de64eddacb2b29f45bb7de5"
      }
     },
     "9023d9aec89a44e5b5c820e65632f3c1": {
      "model_module": "@jupyter-widgets/base",
      "model_module_version": "1.0.0",
      "model_name": "LayoutModel",
      "state": {}
     },
     "935ad7f47e3c4a378f838c304ede1f43": {
      "model_module": "@jupyter-widgets/controls",
      "model_module_version": "1.0.0",
      "model_name": "SliderStyleModel",
      "state": {
       "description_width": ""
      }
     },
     "94a70ca155d946dbb8e4302badcd7c92": {
      "model_module": "@jupyter-widgets/base",
      "model_module_version": "1.0.0",
      "model_name": "LayoutModel",
      "state": {}
     },
     "95e4c04f0d354039a1c4ded9bff87302": {
      "model_module": "@jupyter-widgets/base",
      "model_module_version": "1.0.0",
      "model_name": "LayoutModel",
      "state": {}
     },
     "9619236138d44243a83a0a7d10aaca4e": {
      "model_module": "@jupyter-widgets/controls",
      "model_module_version": "1.0.0",
      "model_name": "SliderStyleModel",
      "state": {
       "description_width": ""
      }
     },
     "976150d16e9a49338425dc05b3fe344e": {
      "model_module": "@jupyter-widgets/base",
      "model_module_version": "1.0.0",
      "model_name": "LayoutModel",
      "state": {}
     },
     "976eeb5f60224400bec88567c63e7c2d": {
      "model_module": "@jupyter-widgets/controls",
      "model_module_version": "1.0.0",
      "model_name": "SliderStyleModel",
      "state": {
       "description_width": ""
      }
     },
     "9859eca1ea264faa944373653f6157c8": {
      "model_module": "@jupyter-widgets/base",
      "model_module_version": "1.0.0",
      "model_name": "LayoutModel",
      "state": {}
     },
     "98aac87b03e74ed6b764a67ce2b9db4c": {
      "model_module": "@jupyter-widgets/base",
      "model_module_version": "1.0.0",
      "model_name": "LayoutModel",
      "state": {}
     },
     "998de2ddc6074cadb31c1a9fc33c2ebb": {
      "model_module": "@jupyter-widgets/controls",
      "model_module_version": "1.0.0",
      "model_name": "FloatSliderModel",
      "state": {
       "description": "r",
       "layout": "IPY_MODEL_94a70ca155d946dbb8e4302badcd7c92",
       "max": 0.5,
       "min": 0.02,
       "step": 0.02,
       "style": "IPY_MODEL_4d270d90919c49df9019f9e7af2a4009",
       "value": 0.1
      }
     },
     "9ae6301c363e4da1a6af9e581f8a8d11": {
      "model_module": "@jupyter-widgets/base",
      "model_module_version": "1.0.0",
      "model_name": "LayoutModel",
      "state": {}
     },
     "9f2a40b8ebef4c479675fd4115163982": {
      "model_module": "@jupyter-widgets/controls",
      "model_module_version": "1.0.0",
      "model_name": "SliderStyleModel",
      "state": {
       "description_width": ""
      }
     },
     "9f349b4e04814fd8bcd1fe7a1ef8e61f": {
      "model_module": "@jupyter-widgets/base",
      "model_module_version": "1.0.0",
      "model_name": "LayoutModel",
      "state": {}
     },
     "9f94793f359c4138974a2b00d4bf669a": {
      "model_module": "@jupyter-widgets/controls",
      "model_module_version": "1.0.0",
      "model_name": "FloatSliderModel",
      "state": {
       "description": "p",
       "layout": "IPY_MODEL_cb0b7aa666cf416a8b4f41d9018ded35",
       "max": 3,
       "min": -1,
       "step": 0.1,
       "style": "IPY_MODEL_9f2a40b8ebef4c479675fd4115163982",
       "value": 1
      }
     },
     "9fd5494021774be786751d0a74330a84": {
      "model_module": "@jupyter-widgets/output",
      "model_module_version": "1.0.0",
      "model_name": "OutputModel",
      "state": {
       "layout": "IPY_MODEL_47c1e181fa35459f87aa1eea3552b5cb",
       "outputs": [
        {
         "data": {
          "image/png": "iVBORw0KGgoAAAANSUhEUgAAAYQAAAD8CAYAAAB3u9PLAAAABHNCSVQICAgIfAhkiAAAAAlwSFlz\nAAALEgAACxIB0t1+/AAAADl0RVh0U29mdHdhcmUAbWF0cGxvdGxpYiB2ZXJzaW9uIDIuMS4wLCBo\ndHRwOi8vbWF0cGxvdGxpYi5vcmcvpW3flQAAIABJREFUeJzt3Xl8VPW9//HXJ/u+koQlYYdAQFBA\nENco7hva7Wpba1tv6b7Z9qrtbXt7+7O1q9V7u0jVVls3rnXBpUUE4g4oiOxL2MMWAkkgBEKW7++P\nc8CIYUkyyZmZvJ+PxzzmzPd8Z+bz9eC8c3ZzziEiIhITdAEiIhIeFAgiIgIoEERExKdAEBERQIEg\nIiI+BYKIiAAKBBER8SkQREQEUCCIiIgvLugCTiQrK8sNHTo06DK6xIEDB0hNTQ26jC6hsUUmjS3y\nHG9cixYtqnLO5bX7A51zJ3wADwKVwPJWbb8CVgNLgaeBrFbz7gDKgTXAZa3aL/fbyoHbT/a9zjmG\nDx/uotW8efOCLqHLaGyRSWOLPMcbF/COO4Xf2GMfp7LJ6K/+j3lrs4HRzrkxwFo/BDCzEuAGYJT/\nnj+YWayZxQK/B64ASoAb/b4iIhImThoIzrlXgb3HtL3knGvyX84HCv3pqcDjzrkG59xGvLWBif6j\n3Dm3wTl3GHjc7ysiImEiFPsQPg884U/3wwuIIyr8NoCtx7RPauvDzGwaMA0gLy+PsrKyEJQYfurq\n6jS2CKSxRaZoHVuox9WpQDCzHwBNwCNHmtro5mh7TaTN624756YD0wGKi4tdaWlpZ0oMW2VlZWhs\nkUdji0zROrZQj6vDgWBmNwNXA1P8nRjg/eVf1KpbIbDdnz5eu4iIhIEOnYdgZpcDtwHXOufqW82a\nCdxgZolmNggYBiwE3gaGmdkgM0vA2/E8s3Oli4hIKJ10DcHMHgNKgV5mVgH8GO+ookRgtpkBzHfO\nfck5t8LMZgAr8TYlfdU51+x/zteAWUAs8KBzbkUXjEdERDropIHgnLuxjeYHTtD/TuDONtpfBF5s\nV3UiItJtdOkKEREBFAgiIuJTIIiICKBAEBERnwJBREQABYKIiPgUCCIiAigQRETEp0AQERFAgSAi\nIj4FgoiIAAoEERHxKRBERARQIIiIiE+BICIigAJBRER8CgQREQEUCCIi4lMgiIgIoEAQERGfAkFE\nRAAFgoiI+BQIIiICKBBERMSnQBAREUCBICIivpMGgpk9aGaVZra8VVuOmc02s3X+c7bfbmZ2r5mV\nm9lSMxvX6j03+/3XmdnNXTMcERHpqFNZQ/grcPkxbbcDc5xzw4A5/muAK4Bh/mMa8EfwAgT4MTAJ\nmAj8+EiIiIhIeDhpIDjnXgX2HtM8FXjIn34IuK5V+8POMx/IMrM+wGXAbOfcXudcNTCbD4dMx7S0\nQP2x5YmISHt1dB9CgXNuB4D/nO+39wO2tupX4bcdr73znvwsPPoJaG4MyceJiPRUcSH+PGujzZ2g\n/cMfYDYNb3MTeXl5lJWVnfAL8yhmVMWzbPnrNDYMiZxdE3V1dScdW6TS2CKTxhZ5Qj2ujgbCLjPr\n45zb4W8SqvTbK4CiVv0Kge1+e+kx7WVtfbBzbjowHaC4uNiVlpa21a2VUnhuN/0X/YX+F3wahk5p\n51CCUVZWxsnHFpk0tsiksUWeUI+ro5uMZgJH/hy/GXi2Vftn/KONzgJq/U1Ks4BLzSzb35l8qd8W\nGpf/HPJL4Okvwv5dIftYEZGe5FQOO30MeAsoNrMKM7sFuAu4xMzWAZf4rwFeBDYA5cCfga8AOOf2\nAj8F3vYf/+23hUZ8MnzsQWiog6eneTuaRUSkXU66ycg5d+NxZn1o24xzzgFfPc7nPAg82K7q2iN/\nJFzxC3juG/DG3XDed7rsq0REolF0nak87jMw6iMw907YsiDoakREIkp0BYIZXPM7yCyEf9wCB2uC\nrkhEJGJEVyAAJGV6+xP2bYcXvgOuzaNbRUTkGNEXCACFE6D0Dlj+JCx9IuhqREQiQnQGAsB5t0L/\ns+GF78LejUFXIyIS9qI3EGJi4SPTwWLgqS/o0hYiIicRvYEAkFUE19wNFW/DK78MuhoRkbAW3YEA\nMPqjMPaT8NqvYfNbQVcjIhK2oj8QAK78JWQNgKem6VBUEZHj6BmBkJgOH70f9m3ToagiIsfRMwIB\nvENRL9ShqCIix9NzAgHg3FthwDneoajVm4KuRkQkrPSsQIiJhevv8y5x8fSXoaU56IpERMJGzwoE\n8A5FveKXsOVNeOv3QVcjIhI2el4gAIy9AUZcDXN/CrtWBl2NiEhY6JmBYAbX3ONdCO+padB0OOiK\nREQC1zMDASC1F1xzL+xaBq/cdfL+IiJRrucGAsCIK+GMT8Prd+uGOiLS4/XsQAC47OeQUQhPf9G7\nJ7OISA+lQEjKgOv/6J2XMPtHQVcjIhIYBQLAwHNh8lfhnQdg3ctBVyMiEggFwhEX/RDyRsCzX4WD\n1UFXIyLS7RQIR8QnwfV/ggO7YdYPgq5GRKTbKRBa63sGnPNNWPIIrJsddDUiIt1KgXCsC26DXsXw\n3DfhUG3Q1YiIdBsFwrHik+C6P8D+HfDSD4OuRkSk2ygQ2lI4ASZ/DRY/BOvnBV2NiEi36FQgmNm3\nzWyFmS03s8fMLMnMBpnZAjNbZ2ZPmFmC3zfRf13uzx8YigF0mQu/D7lDYebXoWF/0NWIiHS5DgeC\nmfUDvgFMcM6NBmKBG4BfAHc754YB1cAt/ltuAaqdc0OBu/1+4Ss+Gab+AWorYPaPg65GRKTLdXaT\nURyQbGZxQAqwA7gIeNKf/xBwnT891X+NP3+KmVknv79r9Z8EZ33ZO2Ft46tBVyMi0qXMdeKG82b2\nTeBO4CDwEvBNYL6/FoCZFQH/dM6NNrPlwOXOuQp/3npgknOu6pjPnAZMA8jLyxs/Y8aMDtcXCjHN\nDZz59jcAx9tn3ktLbFJIPreuro60tLSQfFa40dgik8YWeY43rgsvvHCRc25Cuz/QOdehB5ANzAXy\ngHjgGeAmoLxVnyJgmT+9AihsNW89kHui7xg+fLgLCxtfc+7HGc7N+s+QfeS8efNC9lnhRmOLTBpb\n5DneuIB3XAd+1zuzyehiYKNzbrdzrhF4CjgbyPI3IQEUAtv96Qo/IPDnZwJ7O/H93WfguTDuM94t\nN3e8F3Q1IiJdojOBsAU4y8xS/H0BU4CVwDzgY36fm4Fn/emZ/mv8+XP9JIsMl/w3pOTCzG9AS3PQ\n1YiIhFyHA8E5twBv5/BiYJn/WdOB24BbzawcyAUe8N/yAJDrt98K3N6JurtfcjZccRfsWAIL7gu6\nGhGRkIs7eZfjc879GDj2mMwNwMQ2+h4CPt6Z7wvcqI/Ae4/D3P8HI6+GrP5BVyQiEjI6U7k9zOCq\n3wAOXvguRNAWLxGRk1EgtFdWf7joP2HdLFjxdNDViIiEjAKhIyZ+EfqcDv+8TTfTEZGooUDoiNg4\nuPZeqN8DL/9X0NWIiISEAqGj+oyFSV+CRQ9BxaKgqxER6TQFQmeU3g5pBfDCrTo3QUQingKhM5Iy\n4LI7vXMTFv016GpERDpFgdBZoz8KA8+DOf8NB6pO3l9EJEwpEDrLDK78NRyug5d13wQRiVwKhFDI\nHwFnfQXe/TtsXRh0NSIiHaJACJULboP0vtrBLCIRS4EQKolpcPnPYOcyePuBk/cXEQkzCoRQKrkO\nBpfCvDuhPjJu9SAicoQCIZTM4LKfQ8M+KPt50NWIiLSLAiHUCkpgwue9zUaVq4OuRkTklCkQukLp\n9yEhDWZ9X5fIFpGIoUDoCqm5UHobrJ8D62YHXY2IyClRIHSVM78AuUO9tYTmxqCrERE5KQVCV4lL\ngEvvhD3r4O37g65GROSkFAhdafhlMPhC74gjHYYqImFOgdCVzOCyn0HDfnjtN0FXIyJyQgqErlZQ\nAmM/CQunQ82WoKsRETkuBUJ3uPAOwGDez4KuRETkuBQI3SGzECZ9Ed57HHYuD7oaEZE2KRC6y7nf\n9u6wNucnQVciItImBUJ3ScmB874D616Cja8FXY2IyId0KhDMLMvMnjSz1Wa2yswmm1mOmc02s3X+\nc7bf18zsXjMrN7OlZjYuNEOIIBOnQUY/785quqSFiISZzq4h3AP8yzk3AhgLrAJuB+Y454YBc/zX\nAFcAw/zHNOCPnfzuyBOfDBd+H7YtolfV/KCrERH5gA4HgpllAOcDDwA45w4752qAqcBDfreHgOv8\n6anAw84zH8gysz4drjxSjbkBcoYwcNPj0NISdDUiIkd1Zg1hMLAb+IuZvWtm95tZKlDgnNsB4D/n\n+/37AVtbvb/Cb+tZYuOg9HbSDmyC1c8FXY2IyFFxnXzvOODrzrkFZnYP728eaou10fahDelmNg1v\nkxJ5eXmUlZV1osQw5XIZn9QXe+GHvLMrHSy69u3X1dVF53JDY4tU0Tq2UI+rM4FQAVQ45xb4r5/E\nC4RdZtbHObfD3yRU2ap/Uav3FwLbj/1Q59x0YDpAcXGxKy0t7USJ4Wtl5Y2UrPoNpXk1MPojQZcT\nUmVlZUTrctPYIlO0ji3U4+rwn6bOuZ3AVjMr9pumACuBmcDNftvNwLP+9EzgM/7RRmcBtUc2LfVE\nlfnnQK9iKLsLWpqDLkdEpFNrCABfBx4xswRgA/A5vJCZYWa3AFuAj/t9XwSuBMqBer9vz2WxUHo7\nPPk5WPE0nPaxoCsSkR6uU4HgnFsCTGhj1pQ2+jrgq535vqhTch3k/wpe+QWM+gjERNe+BBGJLPoF\nClJMjHf2ctVaWPNC0NWISA+nQAhayXWQPRBev1tnL4tIoBQIQYuNg3O+CdsWwcZXg65GRHowBUI4\nGPtJSM331hJERAKiQAgH8Ukw+SuwYR5sfzfoakSkh1IghIsJt0BiptYSRCQwCoRwkZQBZ34eVs6E\n6k1BVyMiPZACIZxMnAYxsbDwz0FXIiI9kAIhnGT0hZKpsPhv0FAXdDUi0sMoEMLNpC9DQy2891jQ\nlYhID6NACDdFZ0K/8bDgT7qBjoh0KwVCOJr0ZdhTDuvnBF2JiPQgCoRwVDIV0nrDgvuCrkREehAF\nQjiKS4BxN0H5y1Cz9eT9RURCQIEQrs64yXt+9+/B1iEiPYYCIVxlD4AhF3qBoDuqiUg3UCCEs/Gf\nhX0VUK6dyyLS9RQI4Wz4FZCaB4sfCroSEekBFAjhLC4BTv8krPkn1O0OuhoRiXIKhHA35gZwzbDi\n6aArEZEop0AIdwUlUDAals0IuhIRiXIKhEhw2seh4m3YuyHoSkQkiikQIsFpHwMMlj0ZdCUiEsUU\nCJEgsxAGnANLZ4BzQVcjIlFKgRApRl8Pe9bB7jVBVyIiUUqBECmKr/KeVz8fbB0iErUUCJEiow/0\nmwCrXwi6EhGJUp0OBDOLNbN3zex5//UgM1tgZuvM7AkzS/DbE/3X5f78gZ397h5nxFWwfTHUbgu6\nEhGJQqFYQ/gmsKrV618AdzvnhgHVwC1++y1AtXNuKHC330/aY8TV3vOaF4OtQ0SiUqcCwcwKgauA\n+/3XBlwEHDk+8iHgOn96qv8af/4Uv7+cqrzhkDsU1s4KuhIRiUKdXUP4HfAfwJGb/+YCNc65Jv91\nBdDPn+4HbAXw59f6/aU9hlwEm9+ApoagKxGRKBPX0Tea2dVApXNukZmVHmluo6s7hXmtP3caMA0g\nLy+PsrKyjpYY1urq6jo0ttz6XpzWWM+S56ZTk31a6AsLgY6OLRJobJEpWscW8nE55zr0AH6Otwaw\nCdgJ1AOPAFVAnN9nMjDLn54FTPan4/x+dqLvGD58uItW8+bN69gbD9Y691/Zzr38k5DWE0odHlsE\n0NgiU7SO7XjjAt5xHfhd7/AmI+fcHc65QufcQOAGYK5z7lPAPOBjfrebgWf96Zn+a/z5c/3CpT2S\nMqBwAqyfF3QlIhJluuI8hNuAW82sHG8fwQN++wNArt9+K3B7F3x3zzDoAtixBBr2B12JiESRDu9D\naM05VwaU+dMbgIlt9DkEfDwU39fj9Z8ErgW2LYLBpUFXIyJRQmcqR6J+E7znrW8HW4eIRBUFQiRK\nzoK8EVCxMOhKRCSKKBAiVeGZsHWhLoctIiGjQIhUfc+AQzVQWxF0JSISJRQIkSq/xHuuXBlsHSIS\nNRQIkSp/pPesQBCREFEgRKrkLMjoB7sUCCISGgqESJY3Aqp0S00RCQ0FQiTLHgA1W4KuQkSihAIh\nkmX1h4PVuoSFiISEAiGSZfX3nmu2BluHiEQFBUIkyyzynnUugoiEgAIhkqX4N5w7WB1sHSISFRQI\nkSw523tWIIhICCgQIllSpvesQBCREFAgRLBn3tvJAZJ5cM4SzrlrLs+8uy3okkQkgikQItQz727j\njqeWcdjFEksz22oOcsdTyxQKItJhIbljmnScc45DjS3UHDxM7cFGausbqTnYyL6DjRxqbOZQYwuH\nGptpaHr/ubG5hZnvbedgYzNNiTHE0gLAwcZmvv/0Mt7dUk1CXAwJcTEkxsV607ExJMXHkpoYS0ZS\nPGlJcaQlxpGeFEd6YjypibHExervA5GeTIHQxQ41NrN5Tz0bqw5QUV3Prn2H2LmvgTVbDvLDhXOp\n3NdAQ1PLST8nxiApPpak+FjiYoz6w80AtPB+IADUH27mmSXbOdzUwuHmFppbTv1+CakJsWSnJpCb\nmkB2agI5/nROaqL/nEBeeiJ9MpPITUskNsba/x9ERMKWAiFEGpqaWbuzjhXba1m5Yx/rd9exqaqe\n7bUHP3APm8S4GHpnJpEEjOufTUFGElkp8WQlJ5CVEk9m8vuP5IRYEuO8v+zjj/nr/Zy75rKt5iAx\ntOB4/4e5X1Yyb9x+0dHXzS2Ow00tNDR5axf7DzVR19DE/kON1B1qYn9Dk9d2qIl9hxrZe+Awew4c\npqqugbU797PnwOE2Ays2xshPT6R3ZhK9M5IoyEiid2YSfTKT2Lm3meE1B+mdkUSMQkMkYigQOsA5\nx5a99SzcuJe3N+1laUUt5ZV1NPl/jaclxjE0P42Jg3IYmJvKwF4pDO6VRlFOMpnJ8ZgZZWVllJae\n0eEavndZMXc8tYxUGqgjGYDk+Fi+d1nxB/rFxhjJCbEkJ8QCUJDR/rHWH24+GhSV+w75azmH2Fnb\nwM59B1m7az+vrauirqHp6Pt+vnAuCbEx9MtOpjA7maKcFPrnpFCUnUJRTjJF2SlkpXj/LUQkPCgQ\nTlHl/kO8smY3r6zdzcKNe6nc3wBAVko8pxdlMWVkPiV9MhnVN4P+OSld/pfxdWf0A9dMyswG6kmk\nX1Yy37us2GsPITMjNTGO1MQ4inJSTti3rqGJnbWH+Ner88kuGsbWvQfZureerdX1LF+2g+r6xg/0\nz0iKY1BeGkN6pTI4L5VBvdL851SS4mNDOg4ROTkFwgms2bmfF5ftYN6aSpZW1AKQn57IWYNzmTgo\nh4mDchialxbYZpHrSjJhJnzrynF86+yLTv6GLnZkzWh0rzhKJw340Pz9hxq9kKiuZ+veejbvqWdD\nVR1vbdjDU8ccHdUvK5nBeakM7pXK4Lw0hhWkUVyQTm5aYncNR6THUSAcY+veep5bup2ZS7azeud+\nzOCMoiy+e+lwLhyRT0mfjPDZzLF/l/ecVhBsHacoPSmekr7xlPT98Har+sNNbKw6wIbd3mNjVR0b\nqg7wj8XbPrApqldaAsML0hlekE5x73R/Oo30pPjuHIpIVFIg4O14nbu6kr/N38yra3cDMH5ANj+5\ndhRXntaHvPQw/at0n39Ru4zQbiYKQkpCHKP6ZjKqb+YH2p1zVO5vYN2uOtbs2s/anftZs2s/M97Z\nevRIK4C+mUkM751OcUE6I/tkMKpvBoPz0nQklEg79OhAONDQxN/nb+bhtzazreYgBRmJfOviYXx0\nXOFJt5eHhVp/M0tm5AfC8ZgZBf5RTOcO63W0vaXFsa3G26H9flDU8Wb5Hg43e0dFJcXHUNzbCwfv\nkcmI3unaPyFyHD0yEPYdauThNzfxwOsbqa5vZPLgXP7zqpFcXFLwocM7w9qecoiJj4o1hPaKiTGK\nclIoyklhysj3N5k1NrewfncdK7btY+WOfazYXstz723n0QXeneViDIbkpR0NiFF9MxhdmEmGNjmJ\ndDwQzKwIeBjoDbQA051z95hZDvAEMBDYBHzCOVdt3ob3e4ArgXrgs865xZ0rv30am1v4+/zN/O7l\nddQebOSiEfl8/aKhnNE/uzvLCJ1dy737Ksfqx+yI+NgYRvTOYETvDD7qtznnqKg+6J0jsn0fK7bv\nY/6GvTyzZPvR9w3ulcrYoizGFGYytiiLkj4ZWpOQHqczawhNwHecc4vNLB1YZGazgc8Cc5xzd5nZ\n7cDtwG3AFcAw/zEJ+KP/3C1eWbubnz6/kvLKOs4d2ovbLh/BaYWZJ39jONu1AgaXBl1F2DN7f23i\n8tF9jrbvqWtg+fZ9LKuoYcnWWt4or+Jp/2inuBhjRJ90xhRmMdYPiWH56UENQaRbdDgQnHM7gB3+\n9H4zWwX0A6YCpX63h4AyvECYCjzsnHPAfDPLMrM+/ud0mZr6w/zkuZU8/e42BvVK5f7PTGDKyPzw\nOVKoo2q3wf4d0HtM0JVErNy0RC4YnscFw/OOtu2sPcSSrTUsrahhacUHNzclx8dSlOZ448BKxg/I\nZlz/bPIzkoIqXyTkzLlTv9bNcT/EbCDwKjAa2OKcy2o1r9o5l21mzwN3Oede99vnALc559455rOm\nAdMA8vLyxs+YMaPDdS2pbOIvKw5Td9hx9eB4rhkST1yYHHVSV1dHWlpah99fsHMeI1f/jrcn/I4D\naYNCWFnndXZs4aTFOSrrHRtqW9hY20z53ka2HjCOXM2jV7IxNCuGoVmxDM2KoSg9JmKPbIqm5Xas\naB3b8cZ14YUXLnLOTWjv53V6p7KZpQH/AL7lnNt3gr+825rxoTRyzk0HpgMUFxe70tLSdtfU3OL4\nzUtr+MPi9Yzonc6vPz6W0f3Ca/OQd+mK0o5/wDMzIDmHM6+8GWLCa0d4p8cWxsrKyph87nms2L6P\nxZurWbylmkWbq5m/wztzPSUhlrGFWYwfkM34Admc0T+LrJSEgKs+NdG+3KJxbKEeV6cCwczi8cLg\nEefcU37zriObgsysD1Dpt1cARa3eXghsJ8Rq6g/ztUff5fXyKm6cWMSPrxkVfTsHW5qh/GUYfEHY\nhUFPkBgXy7j+3iYj8HZab6s5yOItNSze7AXEH19Zf/RKs0PyUhk/IJsJA3OYNCiH/jkpkb/JUqJS\nZ44yMuABYJVz7retZs0Ebgbu8p+fbdX+NTN7HG9ncm2o9x9sqznIzQ8uZMveen750TF84syik78p\nEm1+E+p2QcnUoCsRvJ3WhdkpFGancO3YvoB35vXSiloWba5m8eZqXlq5ixnveCcSFmQkMnGQd/mT\nSQFf/kSktc6sIZwD3AQsM7Mlftv38YJghpndAmwBPu7PexHvkNNyvMNOP9eJ7/6Qdbv2c9MDCzlw\nuIm/fX4ikwbnhvLjw8uKpyA+BYZdGnQlchwpCXGcNTiXs/x/hy0tjvLddSzcuJeFG/eyYOMennvP\nW0HOTonnzIE5fkDkMrJPum5WJIHozFFGr9P2fgGAKW30d8BXO/p9J7Jhdx03/nkBMQb/96XJjOjd\nzms8R5KGOlj2DxhxFSSkBl2NnKKYGDt6DaZPnzUA5xxb9x5kwcY9Xkhs2stLK71rU6UlxjFuQDaT\n/AsojinMJDEuyjZ7SliK+DOVK6rr+dT9C3DO8ei0yQzNj74jCT5g6RPQUAtnfiHoSqQTzIz+uSn0\nz03h4xO8TZu79h06ugaxcONefjVrDeBdgmPCgBwmD8nl7CG5nNYvU2sQ0iUiOhAONDTx7w+9Q11D\nE0/0hDBoaYEF90GfsVA0MehqJMQKMpK4ZmxfrvH3Q1QfOMzCTXuZv2EPb63fczQg0hLjmDTIC4jJ\nQ3IZ2TtD+yAkJCI2EFpaHLfOWMLaXfv56+cmtnlJ5aiz4imoWgMffQB0lErUy05N4LJRvblsVG/A\nO7N6/oa9vLm+irfW72HOau8AvqyUeCYPzj26BjEkL01HMUmHRGwg/Pm1DcxasYsfXV3C+a3ONI1a\nzU0w72dQMBpGfSToaiQAuWmJXDWmD1eN8S6/sbP2EG9tqOLN8j28uX4P/1y+E4C89EQmD/bC4Zyh\nvSLjyr0SFiIyEFZu38evX1rDFaN787lzBgZdTvdYeB/sXQ83PKZzDwSA3plJXH9GIdefUXh0J/Wb\n66t4a4MXEDP9o5gG5qZw7rBenDs0j7OH5urKrnJcERcIjc0t3DpjCZnJCdx5/Wk9Y9W4tgLm3ukd\nZlp8RdDVSBh6fyd1f26Y2B/nHOWVdbxRXsVr66p4evE2/j5/C7ExxtjCTM4blsd5w3pxelGWdlDL\nUREXCA+9uYnVO/cz/abx5KRGxiUBOsU5eOE74Frgyl9p34GcEjNjWEE6wwrS+ew5gzjc1MK7W6p5\nvbyKV9dV8T9z13HPnHWkJ8Zx1pBczh/Wi/gDLTjnesYfWdKmiAqE3fsbuOfldVwwPI9LSiLjPsKd\ntuA+WPsvuPwuyB4YdDUSoRLiYpg0OJdJg3P5zqXF1NQf5s31e3htXRWvrdvNbP8ciP9dPo/zhvXi\nvGF5nD0kN2KuwyShEVGB8Mey9dQ3NvOja0p6xl8x2xbD7B/C8Ctg0peCrkaiSFZKAlee1ocrT+uD\nc47Ne+p54MU32UUGz7+3g8cWbsUMxhRmUTo8j9LiPMYUZkXslVzl1ERMIFTVNfDows1cd3o/huRF\n+fkG4O03eOxGSCuA6/6gTUXSZcyMgb1SmdI/ntLSCTQ1t/BeRQ2vrq3i1XW7udffvJSdEs95w7xw\nOH94Hr3SEoMuXUIsYgLhgdc30tDUwlcuHBJ0KV3vUC088glorIebZkFKTtAVSQ8SFxvD+AE5jB+Q\nw7cvGU71gcO8um43r6zZzStrdzPzve2YwWn9MikdnscFxfmcXqS1h2gQEYHQ0NTMYwu3cPmo3tG/\ndnCwBv7+EahaC5+aAQUlQVckPVx2agJTT+/H1NP70dLiWL69lrI1uylbU8n/zivn3rnlZB1Zexju\nrT3kpWvtIRJFRCDMXrmLmvr4NUEiAAAKmUlEQVRGbpzYP+hSutaRMNixFD7xMAy5KOiKRD4gJsYY\nU5jFmMIsvjFlGDX1h3ltXRVl/trDkSu4ntYvk9Jib/PS2EId2hopIiIQnnh7K/2ykjl3aK+gS+k6\n1Zvg0X+DPevh3/6m8w0kImSlJBy9/lJLi2Pljn2UramkbM1ufj+vnP+ZW05mcjylxXlMGVnABcPy\nyEzRiXHhKuwD4cjhcdPOHxy9F/DautDbgdzSBDc9DYPOC7oikXaLiTFG98tkdL9MvnbRMGrrG3mt\nfDfzVu9m3ppKnl2yndgYY8KAbC4eWcBFI/MZ3Cu1ZxwxGCHCPhDK1uymucVxaTSed9DSAm/9L8z5\nCWQWwaf+D3oNC7oqkZDITInn6jF9uXpMX5pbHEu21jB39S7mrKrkzhdXceeLqxiYm8JFIwq4eGQ+\nEwbmkBCnTUtBCvtAmLu6krz0RMYWZgVdSkglNFTDo5+A8tkw8lq49n8gObrGKHJEbIwxfkA24wdk\n873LRlBRXc+81ZXMWV3J3xds5sE3NpKeGMf5w/OYMjKf0uL8nnElgjAT9oGwaHM1kwblRM/mopYW\nWPwQExf+AGiCq34LEz6v8wykRynMTuGmyQO5afJADjQ08UZ5FXP9gHhh2Q7MYFz/bC4akc/FIwsY\nXqBLeneHsA6EZgfbag5yy7mDgi4lNLa/C/+6A7a8xf6s08j+9F+h19CgqxIJVGpiHJeO6s2lo3of\nPax1zqpK5q6u5Fez1vCrWWvol5XMlJH5XFJSwKRBudq01EXCOhAONTnigPEDsoMupXP2boS5P4Xl\n/4CUXJj6B96r6UupwkDkA1of1vrtS4azs/YQ89ZUMmdVJTPe2crDb20mPSmO0mIvHEqL83Q57xAK\n60A43AxJMcbIPhF6N7TKVfDGvbBsBsQmwPnfg7O/AUkZUFYWdHUiYa93ZhI3TuzPjRP7c/BwM6+X\nVzF75U7mrKrkufe2Ex9rnDU4l0tKCrh4ZAF9s5KDLjmihXUgNLVAUU5KZK0etrTAptdg/h+8q5TG\np8CZ/w7nfhvSewddnUjESk6I5ZKSAi4pKaC5xfHulmpmr9zF7JW7+NGzK/jRsys4rV/m0T4jeqdr\nv0M7hXUgNLY4BuRGyO3/9u+EJY/A4r9B9UZv01Dp92HiF3QtIpEQi40xJgzMYcLAHO64ciTllXXM\nXrmLl1bu5O6X1/Lb2WspzE7+QIDIyYV5IMDA3NSgyzi+ut2w+jlY8Qxseh1cMww8Dy78AYy8GuK1\n+irSHYbmpzE0P40vlw6hcv8h5qyq5OWVu3hkwRb+8sYmvjgmkSlBFxkBwjoQHN42xLDR0gI7l8L6\nuVA+B7a86d3JLHeot0no9E9Cbg+4GqtIGMtPf3+/Q/3hJl5dW0XzjlVBlxURwjoQwDskLTDNTbB7\nFVS8DZvegA3zoH6PN69gNJz3XSiZCgWjdB6BSBhKSYjj8tG9KataHXQpEaHbf23N7HLgHiAWuN85\nd9eJ+qclxnZLXTQdhj3lXgDsXAYV73h3LGs84BdSAEMv8a5AOrgU0qPwUhoi0qN1ayCYWSzwe+AS\noAJ428xmOudWHu89KQkhLLGpwbsTWc0WqN3qPVethcrVsHe9d3E5gJh46H0anPFpKDwTCid49zPW\nWoCIRLHuXkOYCJQ75zYAmNnjwFTguIGQlhjnbbppbvB+0JsaPjh99PUhaDwEB/fCgSpv0079Hn+6\nCvbvgv078PZM+CzG+6HPG+ntBM4bCfkjIHcYxIfRvgsRkW7Q3YHQD9ja6nUFMOl4nUfZJs5+ZLh3\n9E57xSVDai/v8M/UXpBfAln9vUdmkfec0RdidZajiAh0fyC0tc3lAwcIm9k0YJr/siHmv6qXd+yr\n9gG7OvbW7tELqAq6iC6isUUmjS3yHG9cAzryYd0dCBVAUavXhcD21h2cc9OB6QBm9o5zbkL3ldd9\nNLbIpLFFpmgdW6jH1d3XhHgbGGZmg8wsAbgBmNnNNYiISBu6dQ3BOddkZl8DZuEddvqgc25Fd9Yg\nIiJt6/bzEJxzLwIvnmL36V1ZS8A0tsiksUWmaB1bSMdlzumiTyIi0v37EEREJEyFbSCY2eVmtsbM\nys3s9qDraS8zKzKzeWa2ysxWmNk3/fYcM5ttZuv852y/3czsXn+8S81sXLAjODEzizWzd83sef/1\nIDNb4I/rCf+gAcws0X9d7s8fGGTdJ2NmWWb2pJmt9pfd5ChaZt/2/y0uN7PHzCwpUpebmT1oZpVm\ntrxVW7uXk5nd7PdfZ2Y3BzGWYx1nbL/y/00uNbOnzSyr1bw7/LGtMbPLWrW3/zfUORd2D7wdzuuB\nwUAC8B5QEnRd7RxDH2CcP50OrAVKgF8Ct/vttwO/8KevBP6Jd67GWcCCoMdwkvHdCjwKPO+/ngHc\n4E//CfiyP/0V4E/+9A3AE0HXfpJxPQT8uz+dAGRFwzLDOyl0I5Dcanl9NlKXG3A+MA5Y3qqtXcsJ\nyAE2+M/Z/nR2mI7tUiDOn/5Fq7GV+L+PicAg/3cztqO/oYEv2OP8B5kMzGr1+g7gjqDr6uSYnsW7\nhtMaoI/f1gdY40/fB9zYqv/RfuH2wDt/ZA5wEfC8/z9aVat/sEeXH94RZZP96Ti/nwU9huOMK8P/\n0bRj2qNhmR25SkCOvxyeBy6L5OUGDDzmR7Ndywm4EbivVfsH+oXT2I6Zdz3wiD/9gd/GI8uto7+h\n4brJqK1LXPQLqJZO81e3zwAWAAXOuR0A/nO+3y2Sxvw74D+AFv91LlDjnPOvDviB2o+Oy59f6/cP\nR4OB3cBf/M1h95tZKlGwzJxz24BfA1uAHXjLYRHRsdyOaO9yipjld4zP463xQIjHFq6BcNJLXEQK\nM0sD/gF8yzm370Rd22gLuzGb2dVApXNuUevmNrq6U5gXbuLwVtX/6Jw7AziAt+nheCJmbP729Kl4\nmxX6AqnAFW10jcTldjLHG0vEjdHMfgA0AY8caWqjW4fHFq6BcNJLXEQCM4vHC4NHnHNP+c27zKyP\nP78PUOm3R8qYzwGuNbNNwON4m41+B2SZ2ZHzWlrXfnRc/vxMYG93FtwOFUCFc26B//pJvICI9GUG\ncDGw0Tm32znXCDwFnE10LLcj2rucImn54e/0vhr4lPO3AxHisYVrIET8JS7MzIAHgFXOud+2mjUT\nOHI0w814+xaOtH/GPyLiLKD2yOpvOHHO3eGcK3TODcRbLnOdc58C5gEf87sdO64j4/2Y3z8s/wpz\nzu0EtppZsd80Be/S7BG9zHxbgLPMLMX/t3lkbBG/3Fpp73KaBVxqZtn+GtSlflvYMe/GYrcB1zrn\n6lvNmgnc4B8VNggYBiyko7+hQe88OcFOlSvxjsxZD/wg6Ho6UP+5eKtoS4El/uNKvO2wc4B1/nOO\n39/wbh60HlgGTAh6DKcwxlLeP8posP8PsRz4PyDRb0/yX5f78wcHXfdJxnQ68I6/3J7BO/okKpYZ\n8BNgNbAc+BvekSkRudyAx/D2hTTi/TV8S0eWE972+HL/8bmgx3WCsZXj7RM48lvyp1b9f+CPbQ1w\nRav2dv+G6kxlEREBwneTkYiIdDMFgoiIAAoEERHxKRBERARQIIiIiE+BICIigAJBRER8CgQREQHg\n/wPz3idxpq2Z7gAAAABJRU5ErkJggg==\n",
          "text/plain": "<matplotlib.figure.Figure at 0x250c895e470>"
         },
         "metadata": {},
         "output_type": "display_data"
        }
       ]
      }
     },
     "a11540c5dae140f481233d113a69d28f": {
      "model_module": "@jupyter-widgets/base",
      "model_module_version": "1.0.0",
      "model_name": "LayoutModel",
      "state": {}
     },
     "a1d5cf07babf4475baf24b856c509ae5": {
      "model_module": "@jupyter-widgets/controls",
      "model_module_version": "1.0.0",
      "model_name": "SliderStyleModel",
      "state": {
       "description_width": ""
      }
     },
     "a1ebc514afef4a649f104a96fad95a85": {
      "model_module": "@jupyter-widgets/controls",
      "model_module_version": "1.0.0",
      "model_name": "VBoxModel",
      "state": {
       "_dom_classes": [
        "widget-interact"
       ],
       "children": [
        "IPY_MODEL_084c4a649f8e44cc8d726eff815b4ddd",
        "IPY_MODEL_ca337fed574448bda2347a0263026665",
        "IPY_MODEL_33648fcd9ece4e599e7970a569070ce8",
        "IPY_MODEL_78b040f1b4814e9e922739ed2bb4123c"
       ],
       "layout": "IPY_MODEL_9f349b4e04814fd8bcd1fe7a1ef8e61f"
      }
     },
     "a597efae888747adaa7c5c234e86a67e": {
      "model_module": "@jupyter-widgets/output",
      "model_module_version": "1.0.0",
      "model_name": "OutputModel",
      "state": {
       "layout": "IPY_MODEL_bdb5c08742514b509aa0a3baeb3c7484",
       "outputs": [
        {
         "data": {
          "text/plain": "(455.0, 150.0, 650.0)"
         },
         "metadata": {},
         "output_type": "display_data"
        }
       ]
      }
     },
     "a67a3e26f43e44d6a88e55b36bededc7": {
      "model_module": "@jupyter-widgets/controls",
      "model_module_version": "1.0.0",
      "model_name": "SliderStyleModel",
      "state": {
       "description_width": ""
      }
     },
     "a6ae4fc5fe1c48c1b0732d1580ac77b5": {
      "model_module": "@jupyter-widgets/controls",
      "model_module_version": "1.0.0",
      "model_name": "IntSliderModel",
      "state": {
       "description": "ys",
       "layout": "IPY_MODEL_6f6cdf590ce6433783346120477eac5e",
       "max": 390,
       "min": -130,
       "style": "IPY_MODEL_976eeb5f60224400bec88567c63e7c2d",
       "value": 78
      }
     },
     "ade5bd65c9024b7cb1a9eef718a31484": {
      "model_module": "@jupyter-widgets/base",
      "model_module_version": "1.0.0",
      "model_name": "LayoutModel",
      "state": {}
     },
     "aea35351287d4244a638a117992dcb67": {
      "model_module": "@jupyter-widgets/controls",
      "model_module_version": "1.0.0",
      "model_name": "SliderStyleModel",
      "state": {
       "description_width": ""
      }
     },
     "afe1253c2de64eddacb2b29f45bb7de5": {
      "model_module": "@jupyter-widgets/base",
      "model_module_version": "1.0.0",
      "model_name": "LayoutModel",
      "state": {}
     },
     "b01d4627d9fd42f8bf1c931622b3290b": {
      "model_module": "@jupyter-widgets/controls",
      "model_module_version": "1.0.0",
      "model_name": "FloatSliderModel",
      "state": {
       "description": "r",
       "layout": "IPY_MODEL_3999f94d2be84a5f8e35653ba6ea85d3",
       "max": 0.5,
       "min": 0.02,
       "step": 0.02,
       "style": "IPY_MODEL_fd05d7f0cb3c4617925b8af29a4fdfb7",
       "value": 0.08
      }
     },
     "b37cbaddd55b475e9a8b25a0905d5fdd": {
      "model_module": "@jupyter-widgets/base",
      "model_module_version": "1.0.0",
      "model_name": "LayoutModel",
      "state": {}
     },
     "b3f07becbccf402f8d0a6e3943d01b25": {
      "model_module": "@jupyter-widgets/controls",
      "model_module_version": "1.0.0",
      "model_name": "FloatSliderModel",
      "state": {
       "description": "r",
       "layout": "IPY_MODEL_0e25af47102c4485ac4da76d329dd458",
       "max": 0.30000000000000004,
       "min": -0.1,
       "step": 0.1,
       "style": "IPY_MODEL_7ddf3101c3c54521a64425fff193c3c9",
       "value": 0.1
      }
     },
     "b4393222ecac45e3b8ff0c3d2cb7fa12": {
      "model_module": "@jupyter-widgets/base",
      "model_module_version": "1.0.0",
      "model_name": "LayoutModel",
      "state": {}
     },
     "b4f9a414b0f2496ab8d5868ee1cde0d8": {
      "model_module": "@jupyter-widgets/controls",
      "model_module_version": "1.0.0",
      "model_name": "VBoxModel",
      "state": {
       "_dom_classes": [
        "widget-interact"
       ],
       "children": [
        "IPY_MODEL_47bd1760d4a1406c9eeea33aba1a55f7",
        "IPY_MODEL_bce3cbc3741d4847b261d61354080b47",
        "IPY_MODEL_e206558428124d74a77306f3b3990259",
        "IPY_MODEL_7260284264224daf87493b3fc328010f",
        "IPY_MODEL_6f03535156c84aafb1ba875bddf1d926"
       ],
       "layout": "IPY_MODEL_6734d3269a8344cda2bbb6f75ba0d6a7"
      }
     },
     "b6237654771e4493b77ae879b7e28829": {
      "model_module": "@jupyter-widgets/base",
      "model_module_version": "1.0.0",
      "model_name": "LayoutModel",
      "state": {}
     },
     "b972a2aa2fbc45dcacaa092068ad506c": {
      "model_module": "@jupyter-widgets/base",
      "model_module_version": "1.0.0",
      "model_name": "LayoutModel",
      "state": {}
     },
     "bb799c76846d47ea9c447dead858dd0f": {
      "model_module": "@jupyter-widgets/base",
      "model_module_version": "1.0.0",
      "model_name": "LayoutModel",
      "state": {}
     },
     "bc4fc7f286354884913ebc03f0f6cc51": {
      "model_module": "@jupyter-widgets/controls",
      "model_module_version": "1.0.0",
      "model_name": "IntSliderModel",
      "state": {
       "description": "ys",
       "layout": "IPY_MODEL_b6237654771e4493b77ae879b7e28829",
       "max": 200,
       "min": 50,
       "step": 10,
       "style": "IPY_MODEL_2fe7d99a95ce4162ae01143a11c1af35",
       "value": 150
      }
     },
     "bcc2b0fb3a924403ae06393fb26a2dce": {
      "model_module": "@jupyter-widgets/controls",
      "model_module_version": "1.0.0",
      "model_name": "FloatSliderModel",
      "state": {
       "description": "r",
       "layout": "IPY_MODEL_0457f30a8d8d4a8f9f3cd32ac0951dd3",
       "max": 0.5,
       "min": 0.02,
       "step": 0.02,
       "style": "IPY_MODEL_d1d2620e1b25476d8f3a16bed6772075",
       "value": 0.1
      }
     },
     "bccd0bccc377420691b81c6b4af44138": {
      "model_module": "@jupyter-widgets/controls",
      "model_module_version": "1.0.0",
      "model_name": "VBoxModel",
      "state": {
       "_dom_classes": [
        "widget-interact"
       ],
       "children": [
        "IPY_MODEL_d84cd52e87b44bc99a56d28f9346c29c",
        "IPY_MODEL_a6ae4fc5fe1c48c1b0732d1580ac77b5",
        "IPY_MODEL_d2eb903991094a52ba206f3113051198",
        "IPY_MODEL_f578555c7e4a492fb9f2ffbbfc6e1410"
       ],
       "layout": "IPY_MODEL_848aac382ea848cfa2527e6f6acb6abf"
      }
     },
     "bce3cbc3741d4847b261d61354080b47": {
      "model_module": "@jupyter-widgets/controls",
      "model_module_version": "1.0.0",
      "model_name": "IntSliderModel",
      "state": {
       "description": "ys",
       "layout": "IPY_MODEL_d887ca63c0834529893455d86e5c7681",
       "max": 390,
       "min": -130,
       "style": "IPY_MODEL_17856e3f8b9c48c081dade4cd66fdfce",
       "value": 144
      }
     },
     "bdb5c08742514b509aa0a3baeb3c7484": {
      "model_module": "@jupyter-widgets/base",
      "model_module_version": "1.0.0",
      "model_name": "LayoutModel",
      "state": {}
     },
     "bf07e27c7e9547ebb3bf110a989c123b": {
      "model_module": "@jupyter-widgets/output",
      "model_module_version": "1.0.0",
      "model_name": "OutputModel",
      "state": {
       "layout": "IPY_MODEL_f36e4fc4b07a443e8300358ef16bea17",
       "outputs": [
        {
         "data": {
          "image/png": "iVBORw0KGgoAAAANSUhEUgAAAYkAAAD8CAYAAACCRVh7AAAABHNCSVQICAgIfAhkiAAAAAlwSFlz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\nCaWUUn3SkFBKKdWn/w9hcN0lV5jM0gAAAABJRU5ErkJggg==\n",
          "text/plain": "<matplotlib.figure.Figure at 0x250c8835240>"
         },
         "metadata": {},
         "output_type": "display_data"
        }
       ]
      }
     },
     "bf280d5542ab496794894730ca9781ea": {
      "model_module": "@jupyter-widgets/controls",
      "model_module_version": "1.0.0",
      "model_name": "SliderStyleModel",
      "state": {
       "description_width": ""
      }
     },
     "bf51af10eb7f4ce08ad8bd262a25b3b1": {
      "model_module": "@jupyter-widgets/controls",
      "model_module_version": "1.0.0",
      "model_name": "IntSliderModel",
      "state": {
       "description": "ys",
       "layout": "IPY_MODEL_305b48a0d22e4e9787a9e2663620e79e",
       "max": 390,
       "min": -130,
       "style": "IPY_MODEL_9619236138d44243a83a0a7d10aaca4e",
       "value": 155
      }
     },
     "bffb53ce4bfe44ee93a9ec9c7dfa5805": {
      "model_module": "@jupyter-widgets/base",
      "model_module_version": "1.0.0",
      "model_name": "LayoutModel",
      "state": {}
     },
     "c087957a00234d7db0a6287e5e054c0e": {
      "model_module": "@jupyter-widgets/controls",
      "model_module_version": "1.0.0",
      "model_name": "SliderStyleModel",
      "state": {
       "description_width": ""
      }
     },
     "ca337fed574448bda2347a0263026665": {
      "model_module": "@jupyter-widgets/controls",
      "model_module_version": "1.0.0",
      "model_name": "IntSliderModel",
      "state": {
       "description": "ys",
       "layout": "IPY_MODEL_ed39547a1edb4a188e5478a37f7617db",
       "max": 150,
       "min": 50,
       "step": 10,
       "style": "IPY_MODEL_0869339f5579420e87350964d29b375c",
       "value": 130
      }
     },
     "cb0b7aa666cf416a8b4f41d9018ded35": {
      "model_module": "@jupyter-widgets/base",
      "model_module_version": "1.0.0",
      "model_name": "LayoutModel",
      "state": {}
     },
     "cfb1b81ed29a455abf583485bfa29052": {
      "model_module": "@jupyter-widgets/controls",
      "model_module_version": "1.0.0",
      "model_name": "SliderStyleModel",
      "state": {
       "description_width": ""
      }
     },
     "d05be5e6efec4e3d8a044b5b25b96f4a": {
      "model_module": "@jupyter-widgets/controls",
      "model_module_version": "1.0.0",
      "model_name": "VBoxModel",
      "state": {
       "_dom_classes": [
        "widget-interact"
       ],
       "children": [
        "IPY_MODEL_48452bf52eb94ec9801adf6a203a82ec",
        "IPY_MODEL_56d18747f6664b6cb39636130c2bbbad",
        "IPY_MODEL_998de2ddc6074cadb31c1a9fc33c2ebb",
        "IPY_MODEL_3fb786fb629145a9bd4608efd4e1ac6f"
       ],
       "layout": "IPY_MODEL_8b40b81ef7fc42a5a46bde8759a085de"
      }
     },
     "d1d2620e1b25476d8f3a16bed6772075": {
      "model_module": "@jupyter-widgets/controls",
      "model_module_version": "1.0.0",
      "model_name": "SliderStyleModel",
      "state": {
       "description_width": ""
      }
     },
     "d1eeaa37b27c46fd8417505ecf4d8f4b": {
      "model_module": "@jupyter-widgets/base",
      "model_module_version": "1.0.0",
      "model_name": "LayoutModel",
      "state": {}
     },
     "d27c56e9e13a4dc58fdfc6e439022b1d": {
      "model_module": "@jupyter-widgets/controls",
      "model_module_version": "1.0.0",
      "model_name": "SliderStyleModel",
      "state": {
       "description_width": ""
      }
     },
     "d2eb903991094a52ba206f3113051198": {
      "model_module": "@jupyter-widgets/controls",
      "model_module_version": "1.0.0",
      "model_name": "FloatSliderModel",
      "state": {
       "description": "r",
       "layout": "IPY_MODEL_3c53512834974666aea9359a54a01eb7",
       "max": 1,
       "step": 0.1,
       "style": "IPY_MODEL_c087957a00234d7db0a6287e5e054c0e",
       "value": 0.4
      }
     },
     "d5c92478a75f4bc18f1bf199d895bff2": {
      "model_module": "@jupyter-widgets/controls",
      "model_module_version": "1.0.0",
      "model_name": "SliderStyleModel",
      "state": {
       "description_width": ""
      }
     },
     "d679bbbacd0a4a6f9026fbb196532922": {
      "model_module": "@jupyter-widgets/base",
      "model_module_version": "1.0.0",
      "model_name": "LayoutModel",
      "state": {}
     },
     "d84cd52e87b44bc99a56d28f9346c29c": {
      "model_module": "@jupyter-widgets/controls",
      "model_module_version": "1.0.0",
      "model_name": "FloatSliderModel",
      "state": {
       "description": "p",
       "layout": "IPY_MODEL_b972a2aa2fbc45dcacaa092068ad506c",
       "max": 3,
       "min": -1,
       "step": 0.1,
       "style": "IPY_MODEL_4bd69b66c9c44b448da0117ad0a465a6",
       "value": 0.7
      }
     },
     "d887ca63c0834529893455d86e5c7681": {
      "model_module": "@jupyter-widgets/base",
      "model_module_version": "1.0.0",
      "model_name": "LayoutModel",
      "state": {}
     },
     "d95b98ea4ec54a7e905742e252fe7abf": {
      "model_module": "@jupyter-widgets/base",
      "model_module_version": "1.0.0",
      "model_name": "LayoutModel",
      "state": {}
     },
     "db3a86df0c354b6c9c53efdd2fbbd808": {
      "model_module": "@jupyter-widgets/controls",
      "model_module_version": "1.0.0",
      "model_name": "IntSliderModel",
      "state": {
       "description": "ys",
       "layout": "IPY_MODEL_50cf80e2c8a7457aae90efd0af09e118",
       "max": 150,
       "min": 50,
       "step": 10,
       "style": "IPY_MODEL_6a2e676810764c99a0debb37e3078139",
       "value": 130
      }
     },
     "db47a6d2fdd54d71adc5f0f021a975d5": {
      "model_module": "@jupyter-widgets/base",
      "model_module_version": "1.0.0",
      "model_name": "LayoutModel",
      "state": {}
     },
     "dccfd41d35514431bcc69001b3212c56": {
      "model_module": "@jupyter-widgets/controls",
      "model_module_version": "1.0.0",
      "model_name": "SliderStyleModel",
      "state": {
       "description_width": ""
      }
     },
     "dce7da9da64d4575bf286196928f60b3": {
      "model_module": "@jupyter-widgets/base",
      "model_module_version": "1.0.0",
      "model_name": "LayoutModel",
      "state": {}
     },
     "dd58d50ee48a4dc7971256068f03c072": {
      "model_module": "@jupyter-widgets/base",
      "model_module_version": "1.0.0",
      "model_name": "LayoutModel",
      "state": {}
     },
     "dfb098cb44af4e3498ca6a387dc789e3": {
      "model_module": "@jupyter-widgets/controls",
      "model_module_version": "1.0.0",
      "model_name": "SliderStyleModel",
      "state": {
       "description_width": ""
      }
     },
     "e206558428124d74a77306f3b3990259": {
      "model_module": "@jupyter-widgets/controls",
      "model_module_version": "1.0.0",
      "model_name": "IntSliderModel",
      "state": {
       "description": "ym",
       "layout": "IPY_MODEL_e8c27e646df54089a70181578c4c03bf",
       "max": 450,
       "min": -150,
       "style": "IPY_MODEL_4ebc4d1e4a4046f9a2c4297c8b8ec014",
       "value": 164
      }
     },
     "e20982423c4d4155a6ae36f17ce6eb10": {
      "model_module": "@jupyter-widgets/controls",
      "model_module_version": "1.0.0",
      "model_name": "SliderStyleModel",
      "state": {
       "description_width": ""
      }
     },
     "e2afcf036a6140619b86133752417ebb": {
      "model_module": "@jupyter-widgets/base",
      "model_module_version": "1.0.0",
      "model_name": "LayoutModel",
      "state": {}
     },
     "e8ad1a11e51f42fb9c9ef4f2db94ceca": {
      "model_module": "@jupyter-widgets/controls",
      "model_module_version": "1.0.0",
      "model_name": "SliderStyleModel",
      "state": {
       "description_width": ""
      }
     },
     "e8c27e646df54089a70181578c4c03bf": {
      "model_module": "@jupyter-widgets/base",
      "model_module_version": "1.0.0",
      "model_name": "LayoutModel",
      "state": {}
     },
     "e9491af6db0f407fb83c6f97906c7aac": {
      "model_module": "@jupyter-widgets/output",
      "model_module_version": "1.0.0",
      "model_name": "OutputModel",
      "state": {
       "layout": "IPY_MODEL_faf78d46d956447e802102021e9c43d1",
       "outputs": [
        {
         "data": {
          "image/png": "iVBORw0KGgoAAAANSUhEUgAAAYkAAAD8CAYAAACCRVh7AAAABHNCSVQICAgIfAhkiAAAAAlwSFlz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\ntP4/iVnygK42eWMAAAAASUVORK5CYII=\n",
          "text/plain": "<matplotlib.figure.Figure at 0x250c72ee198>"
         },
         "metadata": {},
         "output_type": "display_data"
        }
       ]
      }
     },
     "eb589977de974000882d28f08fe28184": {
      "model_module": "@jupyter-widgets/base",
      "model_module_version": "1.0.0",
      "model_name": "LayoutModel",
      "state": {}
     },
     "ecc846f224f940a5a510a74cec328240": {
      "model_module": "@jupyter-widgets/controls",
      "model_module_version": "1.0.0",
      "model_name": "SliderStyleModel",
      "state": {
       "description_width": ""
      }
     },
     "ecd164c6c8c94f2782a49f5b55ffbf75": {
      "model_module": "@jupyter-widgets/controls",
      "model_module_version": "1.0.0",
      "model_name": "FloatSliderModel",
      "state": {
       "description": "p",
       "layout": "IPY_MODEL_50a60c10583c4d7892436f7c272a6f28",
       "max": 3,
       "min": -1,
       "step": 0.1,
       "style": "IPY_MODEL_a67a3e26f43e44d6a88e55b36bededc7",
       "value": 1
      }
     },
     "ed39547a1edb4a188e5478a37f7617db": {
      "model_module": "@jupyter-widgets/base",
      "model_module_version": "1.0.0",
      "model_name": "LayoutModel",
      "state": {}
     },
     "ef77d3067bc34e869a1cf483978356bf": {
      "model_module": "@jupyter-widgets/base",
      "model_module_version": "1.0.0",
      "model_name": "LayoutModel",
      "state": {}
     },
     "efdb1ead4ead4fa9ace506359f01bcbd": {
      "model_module": "@jupyter-widgets/controls",
      "model_module_version": "1.0.0",
      "model_name": "FloatSliderModel",
      "state": {
       "description": "r",
       "layout": "IPY_MODEL_f721e325dc4046e79dcbb30e207658e3",
       "max": 0.5,
       "min": 0.02,
       "step": 0.02,
       "style": "IPY_MODEL_23c20d34ce894c62bd7cc0b115f69b23",
       "value": 0.1
      }
     },
     "f36e4fc4b07a443e8300358ef16bea17": {
      "model_module": "@jupyter-widgets/base",
      "model_module_version": "1.0.0",
      "model_name": "LayoutModel",
      "state": {}
     },
     "f42a26cfb65c41328b01e14fd94eff9c": {
      "model_module": "@jupyter-widgets/output",
      "model_module_version": "1.0.0",
      "model_name": "OutputModel",
      "state": {
       "layout": "IPY_MODEL_f8e5ea33c1f14d778ea88266e9d17ee7",
       "outputs": [
        {
         "data": {
          "image/png": "iVBORw0KGgoAAAANSUhEUgAAAYkAAAD8CAYAAACCRVh7AAAABHNCSVQICAgIfAhkiAAAAAlwSFlz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\nCaWUUn3SkFBKKdWn/w9hcN0lV5jM0gAAAABJRU5ErkJggg==\n",
          "text/plain": "<matplotlib.figure.Figure at 0x23c3d274710>"
         },
         "metadata": {},
         "output_type": "display_data"
        }
       ]
      }
     },
     "f4dea1a1fba24b038bf70daf0529d4b4": {
      "model_module": "@jupyter-widgets/controls",
      "model_module_version": "1.0.0",
      "model_name": "SliderStyleModel",
      "state": {
       "description_width": ""
      }
     },
     "f578555c7e4a492fb9f2ffbbfc6e1410": {
      "model_module": "@jupyter-widgets/output",
      "model_module_version": "1.0.0",
      "model_name": "OutputModel",
      "state": {
       "layout": "IPY_MODEL_3ae4ecfc680e48479fc4a5cce887cd45",
       "outputs": [
        {
         "data": {
          "image/png": "iVBORw0KGgoAAAANSUhEUgAAAXcAAAD8CAYAAACMwORRAAAABHNCSVQICAgIfAhkiAAAAAlwSFlz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\ngg==\n",
          "text/plain": "<matplotlib.figure.Figure at 0x250c7645e10>"
         },
         "metadata": {},
         "output_type": "display_data"
        }
       ]
      }
     },
     "f721e325dc4046e79dcbb30e207658e3": {
      "model_module": "@jupyter-widgets/base",
      "model_module_version": "1.0.0",
      "model_name": "LayoutModel",
      "state": {}
     },
     "f8e5ea33c1f14d778ea88266e9d17ee7": {
      "model_module": "@jupyter-widgets/base",
      "model_module_version": "1.0.0",
      "model_name": "LayoutModel",
      "state": {}
     },
     "f9c11594376a4d0b9286b8060857a164": {
      "model_module": "@jupyter-widgets/base",
      "model_module_version": "1.0.0",
      "model_name": "LayoutModel",
      "state": {}
     },
     "faf78d46d956447e802102021e9c43d1": {
      "model_module": "@jupyter-widgets/base",
      "model_module_version": "1.0.0",
      "model_name": "LayoutModel",
      "state": {}
     },
     "fd05d7f0cb3c4617925b8af29a4fdfb7": {
      "model_module": "@jupyter-widgets/controls",
      "model_module_version": "1.0.0",
      "model_name": "SliderStyleModel",
      "state": {
       "description_width": ""
      }
     },
     "feb27d736ef84388ad4e4df38d828383": {
      "model_module": "@jupyter-widgets/controls",
      "model_module_version": "1.0.0",
      "model_name": "SliderStyleModel",
      "state": {
       "description_width": ""
      }
     },
     "ff3369d46c294dac9a6f2bba44a7b34f": {
      "model_module": "@jupyter-widgets/controls",
      "model_module_version": "1.0.0",
      "model_name": "FloatSliderModel",
      "state": {
       "description": "r",
       "layout": "IPY_MODEL_03fe294b23044fbe9d7cb54d951bec86",
       "max": 0.5,
       "min": 0.02,
       "step": 0.02,
       "style": "IPY_MODEL_feb27d736ef84388ad4e4df38d828383",
       "value": 0.1
      }
     }
    },
    "version_major": 2,
    "version_minor": 0
   }
  }
 },
 "nbformat": 4,
 "nbformat_minor": 2
}
